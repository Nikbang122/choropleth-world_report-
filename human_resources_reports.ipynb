{
 "cells": [
  {
   "cell_type": "code",
   "execution_count": 40,
   "metadata": {},
   "outputs": [],
   "source": [
    "import chart_studio.plotly as py\n",
    "import pandas as pd\n",
    "import plotly.graph_objs as go"
   ]
  },
  {
   "cell_type": "code",
   "execution_count": 41,
   "metadata": {},
   "outputs": [],
   "source": [
    "from plotly.offline import download_plotlyjs,init_notebook_mode,plot,iplot"
   ]
  },
  {
   "cell_type": "code",
   "execution_count": 42,
   "metadata": {},
   "outputs": [
    {
     "data": {
      "text/html": [
       "        <script type=\"text/javascript\">\n",
       "        window.PlotlyConfig = {MathJaxConfig: 'local'};\n",
       "        if (window.MathJax) {MathJax.Hub.Config({SVG: {font: \"STIX-Web\"}});}\n",
       "        if (typeof require !== 'undefined') {\n",
       "        require.undef(\"plotly\");\n",
       "        requirejs.config({\n",
       "            paths: {\n",
       "                'plotly': ['https://cdn.plot.ly/plotly-2.3.1.min']\n",
       "            }\n",
       "        });\n",
       "        require(['plotly'], function(Plotly) {\n",
       "            window._Plotly = Plotly;\n",
       "        });\n",
       "        }\n",
       "        </script>\n",
       "        "
      ]
     },
     "metadata": {},
     "output_type": "display_data"
    }
   ],
   "source": [
    "init_notebook_mode(connected=True)"
   ]
  },
  {
   "cell_type": "code",
   "execution_count": 43,
   "metadata": {},
   "outputs": [],
   "source": [
    "df=pd.read_csv('HDI.csv')"
   ]
  },
  {
   "cell_type": "code",
   "execution_count": 44,
   "metadata": {},
   "outputs": [
    {
     "data": {
      "text/html": [
       "<div>\n",
       "<style scoped>\n",
       "    .dataframe tbody tr th:only-of-type {\n",
       "        vertical-align: middle;\n",
       "    }\n",
       "\n",
       "    .dataframe tbody tr th {\n",
       "        vertical-align: top;\n",
       "    }\n",
       "\n",
       "    .dataframe thead th {\n",
       "        text-align: right;\n",
       "    }\n",
       "</style>\n",
       "<table border=\"1\" class=\"dataframe\">\n",
       "  <thead>\n",
       "    <tr style=\"text-align: right;\">\n",
       "      <th></th>\n",
       "      <th>Unnamed: 0</th>\n",
       "      <th>Id</th>\n",
       "      <th>Country</th>\n",
       "      <th>HDI Rank</th>\n",
       "      <th>HDI</th>\n",
       "      <th>Life expectancy</th>\n",
       "      <th>Mean years of schooling</th>\n",
       "      <th>Gross national income (GNI) per capita</th>\n",
       "      <th>GNI per capita rank minus HDI rank</th>\n",
       "      <th>Change in HDI rank 2010-2015</th>\n",
       "      <th>...</th>\n",
       "      <th>Coefficient of human inequality</th>\n",
       "      <th>Inequality in life expectancy (%) 2010-2015</th>\n",
       "      <th>Inequality-adjusted life expectancy index</th>\n",
       "      <th>Inequality in education(%)</th>\n",
       "      <th>Inequality-adjusted education index</th>\n",
       "      <th>Inequality in income (%)</th>\n",
       "      <th>Inequality-adjusted income index</th>\n",
       "      <th>Income inequality (Quintile ratio) 2010-2015</th>\n",
       "      <th>Income inequality (Palma ratio) 2010-2015</th>\n",
       "      <th>Income inequality (Gini coefficient) 2010-2015</th>\n",
       "    </tr>\n",
       "  </thead>\n",
       "  <tbody>\n",
       "    <tr>\n",
       "      <th>0</th>\n",
       "      <td>0</td>\n",
       "      <td>1</td>\n",
       "      <td>Norway</td>\n",
       "      <td>1.0</td>\n",
       "      <td>0.949</td>\n",
       "      <td>81.7</td>\n",
       "      <td>12.7</td>\n",
       "      <td>67614.0</td>\n",
       "      <td>5.0</td>\n",
       "      <td>0.0</td>\n",
       "      <td>...</td>\n",
       "      <td>5.4</td>\n",
       "      <td>3.3</td>\n",
       "      <td>0.918</td>\n",
       "      <td>2.4</td>\n",
       "      <td>0.894</td>\n",
       "      <td>10.4</td>\n",
       "      <td>0.882</td>\n",
       "      <td>3.8</td>\n",
       "      <td>0.9</td>\n",
       "      <td>25.9</td>\n",
       "    </tr>\n",
       "    <tr>\n",
       "      <th>1</th>\n",
       "      <td>1</td>\n",
       "      <td>2</td>\n",
       "      <td>Australia</td>\n",
       "      <td>2.0</td>\n",
       "      <td>0.939</td>\n",
       "      <td>82.5</td>\n",
       "      <td>13.2</td>\n",
       "      <td>42822.0</td>\n",
       "      <td>19.0</td>\n",
       "      <td>1.0</td>\n",
       "      <td>...</td>\n",
       "      <td>8.0</td>\n",
       "      <td>4.3</td>\n",
       "      <td>0.921</td>\n",
       "      <td>1.9</td>\n",
       "      <td>0.921</td>\n",
       "      <td>17.7</td>\n",
       "      <td>0.753</td>\n",
       "      <td>6.0</td>\n",
       "      <td>1.4</td>\n",
       "      <td>34.9</td>\n",
       "    </tr>\n",
       "    <tr>\n",
       "      <th>2</th>\n",
       "      <td>2</td>\n",
       "      <td>3</td>\n",
       "      <td>Switzerland</td>\n",
       "      <td>2.0</td>\n",
       "      <td>0.939</td>\n",
       "      <td>83.1</td>\n",
       "      <td>13.4</td>\n",
       "      <td>56364.0</td>\n",
       "      <td>7.0</td>\n",
       "      <td>0.0</td>\n",
       "      <td>...</td>\n",
       "      <td>8.4</td>\n",
       "      <td>3.8</td>\n",
       "      <td>0.934</td>\n",
       "      <td>5.7</td>\n",
       "      <td>0.840</td>\n",
       "      <td>15.7</td>\n",
       "      <td>0.806</td>\n",
       "      <td>4.9</td>\n",
       "      <td>1.2</td>\n",
       "      <td>31.6</td>\n",
       "    </tr>\n",
       "  </tbody>\n",
       "</table>\n",
       "<p>3 rows × 82 columns</p>\n",
       "</div>"
      ],
      "text/plain": [
       "   Unnamed: 0  Id      Country  HDI Rank    HDI  Life expectancy  \\\n",
       "0           0   1       Norway       1.0  0.949             81.7   \n",
       "1           1   2    Australia       2.0  0.939             82.5   \n",
       "2           2   3  Switzerland       2.0  0.939             83.1   \n",
       "\n",
       "   Mean years of schooling  Gross national income (GNI) per capita  \\\n",
       "0                     12.7                                 67614.0   \n",
       "1                     13.2                                 42822.0   \n",
       "2                     13.4                                 56364.0   \n",
       "\n",
       "   GNI per capita rank minus HDI rank  Change in HDI rank 2010-2015  ...  \\\n",
       "0                                 5.0                           0.0  ...   \n",
       "1                                19.0                           1.0  ...   \n",
       "2                                 7.0                           0.0  ...   \n",
       "\n",
       "   Coefficient of human inequality  \\\n",
       "0                              5.4   \n",
       "1                              8.0   \n",
       "2                              8.4   \n",
       "\n",
       "   Inequality in life expectancy (%) 2010-2015  \\\n",
       "0                                          3.3   \n",
       "1                                          4.3   \n",
       "2                                          3.8   \n",
       "\n",
       "   Inequality-adjusted life expectancy index  Inequality in education(%)  \\\n",
       "0                                      0.918                         2.4   \n",
       "1                                      0.921                         1.9   \n",
       "2                                      0.934                         5.7   \n",
       "\n",
       "   Inequality-adjusted education index  Inequality in income (%)  \\\n",
       "0                                0.894                      10.4   \n",
       "1                                0.921                      17.7   \n",
       "2                                0.840                      15.7   \n",
       "\n",
       "   Inequality-adjusted income index  \\\n",
       "0                             0.882   \n",
       "1                             0.753   \n",
       "2                             0.806   \n",
       "\n",
       "   Income inequality (Quintile ratio) 2010-2015  \\\n",
       "0                                           3.8   \n",
       "1                                           6.0   \n",
       "2                                           4.9   \n",
       "\n",
       "   Income inequality (Palma ratio) 2010-2015  \\\n",
       "0                                        0.9   \n",
       "1                                        1.4   \n",
       "2                                        1.2   \n",
       "\n",
       "   Income inequality (Gini coefficient) 2010-2015  \n",
       "0                                            25.9  \n",
       "1                                            34.9  \n",
       "2                                            31.6  \n",
       "\n",
       "[3 rows x 82 columns]"
      ]
     },
     "execution_count": 44,
     "metadata": {},
     "output_type": "execute_result"
    }
   ],
   "source": [
    "df.head(3)"
   ]
  },
  {
   "cell_type": "code",
   "execution_count": 85,
   "metadata": {},
   "outputs": [],
   "source": [
    "data=dict(type='choropleth',\n",
    "        colorscale ='sunsetdark',\n",
    "        locations=df['Country'],\n",
    "        z=df['HDI'],\n",
    "        text=df['Country'],\n",
    "        marker=dict(line=dict(color='rgb(255,255,255)',width=1)),\n",
    "        colorbar={'title':'HDI of the world'})"
   ]
  },
  {
   "cell_type": "code",
   "execution_count": 86,
   "metadata": {},
   "outputs": [],
   "source": [
    "layout=dict(title='2010-15 HDI of the world',\n",
    "           geo=dict(scope='world',showlakes=True,lakecolor='rgb(85,173,240)',\n",
    "            projection={'type':'hammer'}))"
   ]
  },
  {
   "cell_type": "code",
   "execution_count": 87,
   "metadata": {},
   "outputs": [],
   "source": [
    "choromap=go.Figure(data=[data],layout=layout)"
   ]
  },
  {
   "cell_type": "code",
   "execution_count": 84,
   "metadata": {},
   "outputs": [
    {
     "data": {
      "application/vnd.plotly.v1+json": {
       "config": {
        "linkText": "Export to plot.ly",
        "plotlyServerURL": "https://plot.ly",
        "showLink": false
       },
       "data": [
        {
         "colorbar": {
          "title": {
           "text": "HDI of the world"
          }
         },
         "colorscale": [
          [
           0,
           "rgb(252, 222, 156)"
          ],
          [
           0.16666666666666666,
           "rgb(250, 164, 118)"
          ],
          [
           0.3333333333333333,
           "rgb(240, 116, 110)"
          ],
          [
           0.5,
           "rgb(227, 79, 111)"
          ],
          [
           0.6666666666666666,
           "rgb(220, 57, 119)"
          ],
          [
           0.8333333333333334,
           "rgb(185, 37, 122)"
          ],
          [
           1,
           "rgb(124, 29, 111)"
          ]
         ],
         "locations": [
          "Norway",
          "Australia",
          "Switzerland",
          "Germany",
          "Denmark",
          "Singapore",
          "Netherlands",
          "Ireland",
          "Iceland",
          "Canada",
          "United States",
          "Hong Kong, China (SAR)",
          "New Zealand",
          "Sweden",
          "Liechtenstein",
          "United Kingdom",
          "Japan",
          "Korea (Republic of)",
          "Israel",
          "Luxembourg",
          "France",
          "Belgium",
          "Finland",
          "Austria",
          "Slovenia",
          "Italy",
          "Spain",
          "Czech Republic",
          "Greece",
          "Brunei Darussalam",
          "Estonia",
          "Andorra",
          "Cyprus",
          "Malta",
          "Qatar",
          "Poland",
          "Lithuania",
          "Chile",
          "Saudi Arabia",
          "Slovakia",
          "Portugal",
          "United Arab Emirates",
          "Hungary",
          "Latvia",
          "Argentina",
          "Croatia",
          "Bahrain",
          "Montenegro",
          "Russian Federation",
          "Romania",
          "Kuwait",
          "Belarus",
          "Oman",
          "Barbados",
          "Uruguay",
          "Bulgaria",
          "Kazakhstan",
          "Bahamas",
          "Malaysia",
          "Palau",
          "Panama",
          "Antigua and Barbuda",
          "Seychelles",
          "Mauritius",
          "Trinidad and Tobago",
          "Costa Rica",
          "Serbia",
          "Cuba",
          "Iran (Islamic Republic of)",
          "Georgia",
          "Turkey",
          "Venezuela (Bolivarian Republic of)",
          "Sri Lanka",
          "Saint Kitts and Nevis",
          "Albania",
          "Lebanon",
          "Mexico",
          "Azerbaijan",
          "Brazil",
          "Grenada",
          "Bosnia and Herzegovina",
          "The former Yugoslav Republic of Macedonia",
          "Algeria",
          "Armenia",
          "Ukraine",
          "Jordan",
          "Peru",
          "Thailand",
          "Ecuador",
          "China",
          "Fiji",
          "Mongolia",
          "Saint Lucia",
          "Jamaica",
          "Colombia",
          "Dominica",
          "Suriname",
          "Tunisia",
          "Dominican Republic",
          "Saint Vincent and the Grenadines",
          "Tonga",
          "Libya",
          "Belize",
          "Samoa",
          "Maldives",
          "Uzbekistan",
          "Moldova (Republic of)",
          "Botswana",
          "Gabon",
          "Paraguay",
          "Egypt",
          "Turkmenistan",
          "Indonesia",
          "Palestine, State of",
          "Viet Nam",
          "Philippines",
          "El Salvador",
          "Bolivia (Plurinational State of)",
          "South Africa",
          "Kyrgyzstan",
          "Iraq",
          "Cabo Verde",
          "Morocco",
          "Nicaragua",
          "Guatemala",
          "Namibia",
          "Guyana",
          "Micronesia (Federated States of)",
          "Tajikistan",
          "Honduras",
          "India",
          "Bhutan",
          "Timor-Leste",
          "Vanuatu",
          "Congo",
          "Equatorial Guinea",
          "Kiribati",
          "Lao People's Democratic Republic",
          "Bangladesh",
          "Ghana",
          "Zambia",
          "Sao Tome and Principe",
          "Cambodia",
          "Nepal",
          "Myanmar",
          "Kenya",
          "Pakistan",
          "Swaziland",
          "Syrian Arab Republic",
          "Angola",
          "Tanzania (United Republic of)",
          "Nigeria",
          "Cameroon",
          "Papua New Guinea",
          "Zimbabwe",
          "Solomon Islands",
          "Mauritania",
          "Madagascar",
          "Rwanda",
          "Comoros",
          "Lesotho",
          "Senegal",
          "Haiti",
          "Uganda",
          "Sudan",
          "Togo",
          "Benin",
          "Yemen",
          "Afghanistan",
          "Malawi",
          "Côte d'Ivoire",
          "Djibouti",
          "Gambia",
          "Ethiopia",
          "Mali",
          "Congo (Democratic Republic of the)",
          "Liberia",
          "Guinea-Bissau",
          "Eritrea",
          "Sierra Leone",
          "Mozambique",
          "South Sudan",
          "Guinea",
          "Burundi",
          "Burkina Faso",
          "Chad",
          "Niger",
          "Central African Republic",
          "Korea (Democratic People's Rep. of)",
          "Marshall Islands",
          "Monaco",
          "Nauru",
          "San Marino",
          "Somalia",
          "Tuvalu"
         ],
         "marker": {
          "line": {
           "color": "rgb(255,255,255)",
           "width": 1
          }
         },
         "text": [
          "Norway",
          "Australia",
          "Switzerland",
          "Germany",
          "Denmark",
          "Singapore",
          "Netherlands",
          "Ireland",
          "Iceland",
          "Canada",
          "United States",
          "Hong Kong, China (SAR)",
          "New Zealand",
          "Sweden",
          "Liechtenstein",
          "United Kingdom",
          "Japan",
          "Korea (Republic of)",
          "Israel",
          "Luxembourg",
          "France",
          "Belgium",
          "Finland",
          "Austria",
          "Slovenia",
          "Italy",
          "Spain",
          "Czech Republic",
          "Greece",
          "Brunei Darussalam",
          "Estonia",
          "Andorra",
          "Cyprus",
          "Malta",
          "Qatar",
          "Poland",
          "Lithuania",
          "Chile",
          "Saudi Arabia",
          "Slovakia",
          "Portugal",
          "United Arab Emirates",
          "Hungary",
          "Latvia",
          "Argentina",
          "Croatia",
          "Bahrain",
          "Montenegro",
          "Russian Federation",
          "Romania",
          "Kuwait",
          "Belarus",
          "Oman",
          "Barbados",
          "Uruguay",
          "Bulgaria",
          "Kazakhstan",
          "Bahamas",
          "Malaysia",
          "Palau",
          "Panama",
          "Antigua and Barbuda",
          "Seychelles",
          "Mauritius",
          "Trinidad and Tobago",
          "Costa Rica",
          "Serbia",
          "Cuba",
          "Iran (Islamic Republic of)",
          "Georgia",
          "Turkey",
          "Venezuela (Bolivarian Republic of)",
          "Sri Lanka",
          "Saint Kitts and Nevis",
          "Albania",
          "Lebanon",
          "Mexico",
          "Azerbaijan",
          "Brazil",
          "Grenada",
          "Bosnia and Herzegovina",
          "The former Yugoslav Republic of Macedonia",
          "Algeria",
          "Armenia",
          "Ukraine",
          "Jordan",
          "Peru",
          "Thailand",
          "Ecuador",
          "China",
          "Fiji",
          "Mongolia",
          "Saint Lucia",
          "Jamaica",
          "Colombia",
          "Dominica",
          "Suriname",
          "Tunisia",
          "Dominican Republic",
          "Saint Vincent and the Grenadines",
          "Tonga",
          "Libya",
          "Belize",
          "Samoa",
          "Maldives",
          "Uzbekistan",
          "Moldova (Republic of)",
          "Botswana",
          "Gabon",
          "Paraguay",
          "Egypt",
          "Turkmenistan",
          "Indonesia",
          "Palestine, State of",
          "Viet Nam",
          "Philippines",
          "El Salvador",
          "Bolivia (Plurinational State of)",
          "South Africa",
          "Kyrgyzstan",
          "Iraq",
          "Cabo Verde",
          "Morocco",
          "Nicaragua",
          "Guatemala",
          "Namibia",
          "Guyana",
          "Micronesia (Federated States of)",
          "Tajikistan",
          "Honduras",
          "India",
          "Bhutan",
          "Timor-Leste",
          "Vanuatu",
          "Congo",
          "Equatorial Guinea",
          "Kiribati",
          "Lao People's Democratic Republic",
          "Bangladesh",
          "Ghana",
          "Zambia",
          "Sao Tome and Principe",
          "Cambodia",
          "Nepal",
          "Myanmar",
          "Kenya",
          "Pakistan",
          "Swaziland",
          "Syrian Arab Republic",
          "Angola",
          "Tanzania (United Republic of)",
          "Nigeria",
          "Cameroon",
          "Papua New Guinea",
          "Zimbabwe",
          "Solomon Islands",
          "Mauritania",
          "Madagascar",
          "Rwanda",
          "Comoros",
          "Lesotho",
          "Senegal",
          "Haiti",
          "Uganda",
          "Sudan",
          "Togo",
          "Benin",
          "Yemen",
          "Afghanistan",
          "Malawi",
          "Côte d'Ivoire",
          "Djibouti",
          "Gambia",
          "Ethiopia",
          "Mali",
          "Congo (Democratic Republic of the)",
          "Liberia",
          "Guinea-Bissau",
          "Eritrea",
          "Sierra Leone",
          "Mozambique",
          "South Sudan",
          "Guinea",
          "Burundi",
          "Burkina Faso",
          "Chad",
          "Niger",
          "Central African Republic",
          "Korea (Democratic People's Rep. of)",
          "Marshall Islands",
          "Monaco",
          "Nauru",
          "San Marino",
          "Somalia",
          "Tuvalu"
         ],
         "type": "choropleth",
         "z": [
          0.9490000000000001,
          0.9390000000000001,
          0.9390000000000001,
          0.9259999999999999,
          0.925,
          0.925,
          0.924,
          0.9229999999999999,
          0.9209999999999999,
          0.92,
          0.92,
          0.917,
          0.915,
          0.9129999999999999,
          0.912,
          0.909,
          0.903,
          0.9009999999999999,
          0.899,
          0.898,
          0.897,
          0.8959999999999999,
          0.895,
          0.893,
          0.89,
          0.887,
          0.884,
          0.878,
          0.866,
          0.865,
          0.865,
          0.858,
          0.856,
          0.856,
          0.856,
          0.855,
          0.848,
          0.847,
          0.847,
          0.845,
          0.843,
          0.84,
          0.836,
          0.83,
          0.8270000000000001,
          0.8270000000000001,
          0.8240000000000001,
          0.807,
          0.804,
          0.802,
          0.8,
          0.7959999999999999,
          0.7959999999999999,
          0.795,
          0.795,
          0.794,
          0.794,
          0.792,
          0.789,
          0.7879999999999999,
          0.7879999999999999,
          0.7859999999999999,
          0.782,
          0.7809999999999999,
          0.78,
          0.7759999999999999,
          0.7759999999999999,
          0.775,
          0.774,
          0.769,
          0.767,
          0.767,
          0.7659999999999999,
          0.765,
          0.764,
          0.763,
          0.762,
          0.759,
          0.754,
          0.754,
          0.75,
          0.748,
          0.745,
          0.743,
          0.743,
          0.741,
          0.74,
          0.74,
          0.7390000000000001,
          0.738,
          0.736,
          0.735,
          0.735,
          0.73,
          0.727,
          0.726,
          0.725,
          0.725,
          0.722,
          0.722,
          0.721,
          0.716,
          0.706,
          0.7040000000000001,
          0.701,
          0.701,
          0.6990000000000001,
          0.698,
          0.6970000000000001,
          0.693,
          0.691,
          0.691,
          0.6890000000000001,
          0.684,
          0.6829999999999999,
          0.682,
          0.68,
          0.674,
          0.6659999999999999,
          0.664,
          0.649,
          0.648,
          0.647,
          0.645,
          0.64,
          0.64,
          0.638,
          0.638,
          0.627,
          0.625,
          0.624,
          0.607,
          0.605,
          0.597,
          0.5920000000000001,
          0.5920000000000001,
          0.588,
          0.586,
          0.579,
          0.579,
          0.579,
          0.574,
          0.563,
          0.5579999999999999,
          0.556,
          0.555,
          0.55,
          0.541,
          0.536,
          0.5329999999999999,
          0.531,
          0.527,
          0.518,
          0.516,
          0.516,
          0.515,
          0.513,
          0.512,
          0.498,
          0.49700000000000005,
          0.49700000000000005,
          0.494,
          0.493,
          0.493,
          0.49,
          0.48700000000000004,
          0.485,
          0.48200000000000004,
          0.479,
          0.47600000000000003,
          0.474,
          0.473,
          0.452,
          0.44799999999999995,
          0.442,
          0.435,
          0.42700000000000005,
          0.424,
          0.42,
          0.42,
          0.418,
          0.418,
          0.414,
          0.40399999999999997,
          0.402,
          0.396,
          0.353,
          0.35200000000000004,
          null,
          null,
          null,
          null,
          null,
          null,
          null
         ]
        }
       ],
       "layout": {
        "geo": {
         "lakecolor": "rgb(85,173,240)",
         "projection": {
          "type": "hammer"
         },
         "scope": "world",
         "showlakes": true
        },
        "template": {
         "data": {
          "bar": [
           {
            "error_x": {
             "color": "#2a3f5f"
            },
            "error_y": {
             "color": "#2a3f5f"
            },
            "marker": {
             "line": {
              "color": "#E5ECF6",
              "width": 0.5
             },
             "pattern": {
              "fillmode": "overlay",
              "size": 10,
              "solidity": 0.2
             }
            },
            "type": "bar"
           }
          ],
          "barpolar": [
           {
            "marker": {
             "line": {
              "color": "#E5ECF6",
              "width": 0.5
             },
             "pattern": {
              "fillmode": "overlay",
              "size": 10,
              "solidity": 0.2
             }
            },
            "type": "barpolar"
           }
          ],
          "carpet": [
           {
            "aaxis": {
             "endlinecolor": "#2a3f5f",
             "gridcolor": "white",
             "linecolor": "white",
             "minorgridcolor": "white",
             "startlinecolor": "#2a3f5f"
            },
            "baxis": {
             "endlinecolor": "#2a3f5f",
             "gridcolor": "white",
             "linecolor": "white",
             "minorgridcolor": "white",
             "startlinecolor": "#2a3f5f"
            },
            "type": "carpet"
           }
          ],
          "choropleth": [
           {
            "colorbar": {
             "outlinewidth": 0,
             "ticks": ""
            },
            "type": "choropleth"
           }
          ],
          "contour": [
           {
            "colorbar": {
             "outlinewidth": 0,
             "ticks": ""
            },
            "colorscale": [
             [
              0,
              "#0d0887"
             ],
             [
              0.1111111111111111,
              "#46039f"
             ],
             [
              0.2222222222222222,
              "#7201a8"
             ],
             [
              0.3333333333333333,
              "#9c179e"
             ],
             [
              0.4444444444444444,
              "#bd3786"
             ],
             [
              0.5555555555555556,
              "#d8576b"
             ],
             [
              0.6666666666666666,
              "#ed7953"
             ],
             [
              0.7777777777777778,
              "#fb9f3a"
             ],
             [
              0.8888888888888888,
              "#fdca26"
             ],
             [
              1,
              "#f0f921"
             ]
            ],
            "type": "contour"
           }
          ],
          "contourcarpet": [
           {
            "colorbar": {
             "outlinewidth": 0,
             "ticks": ""
            },
            "type": "contourcarpet"
           }
          ],
          "heatmap": [
           {
            "colorbar": {
             "outlinewidth": 0,
             "ticks": ""
            },
            "colorscale": [
             [
              0,
              "#0d0887"
             ],
             [
              0.1111111111111111,
              "#46039f"
             ],
             [
              0.2222222222222222,
              "#7201a8"
             ],
             [
              0.3333333333333333,
              "#9c179e"
             ],
             [
              0.4444444444444444,
              "#bd3786"
             ],
             [
              0.5555555555555556,
              "#d8576b"
             ],
             [
              0.6666666666666666,
              "#ed7953"
             ],
             [
              0.7777777777777778,
              "#fb9f3a"
             ],
             [
              0.8888888888888888,
              "#fdca26"
             ],
             [
              1,
              "#f0f921"
             ]
            ],
            "type": "heatmap"
           }
          ],
          "heatmapgl": [
           {
            "colorbar": {
             "outlinewidth": 0,
             "ticks": ""
            },
            "colorscale": [
             [
              0,
              "#0d0887"
             ],
             [
              0.1111111111111111,
              "#46039f"
             ],
             [
              0.2222222222222222,
              "#7201a8"
             ],
             [
              0.3333333333333333,
              "#9c179e"
             ],
             [
              0.4444444444444444,
              "#bd3786"
             ],
             [
              0.5555555555555556,
              "#d8576b"
             ],
             [
              0.6666666666666666,
              "#ed7953"
             ],
             [
              0.7777777777777778,
              "#fb9f3a"
             ],
             [
              0.8888888888888888,
              "#fdca26"
             ],
             [
              1,
              "#f0f921"
             ]
            ],
            "type": "heatmapgl"
           }
          ],
          "histogram": [
           {
            "marker": {
             "pattern": {
              "fillmode": "overlay",
              "size": 10,
              "solidity": 0.2
             }
            },
            "type": "histogram"
           }
          ],
          "histogram2d": [
           {
            "colorbar": {
             "outlinewidth": 0,
             "ticks": ""
            },
            "colorscale": [
             [
              0,
              "#0d0887"
             ],
             [
              0.1111111111111111,
              "#46039f"
             ],
             [
              0.2222222222222222,
              "#7201a8"
             ],
             [
              0.3333333333333333,
              "#9c179e"
             ],
             [
              0.4444444444444444,
              "#bd3786"
             ],
             [
              0.5555555555555556,
              "#d8576b"
             ],
             [
              0.6666666666666666,
              "#ed7953"
             ],
             [
              0.7777777777777778,
              "#fb9f3a"
             ],
             [
              0.8888888888888888,
              "#fdca26"
             ],
             [
              1,
              "#f0f921"
             ]
            ],
            "type": "histogram2d"
           }
          ],
          "histogram2dcontour": [
           {
            "colorbar": {
             "outlinewidth": 0,
             "ticks": ""
            },
            "colorscale": [
             [
              0,
              "#0d0887"
             ],
             [
              0.1111111111111111,
              "#46039f"
             ],
             [
              0.2222222222222222,
              "#7201a8"
             ],
             [
              0.3333333333333333,
              "#9c179e"
             ],
             [
              0.4444444444444444,
              "#bd3786"
             ],
             [
              0.5555555555555556,
              "#d8576b"
             ],
             [
              0.6666666666666666,
              "#ed7953"
             ],
             [
              0.7777777777777778,
              "#fb9f3a"
             ],
             [
              0.8888888888888888,
              "#fdca26"
             ],
             [
              1,
              "#f0f921"
             ]
            ],
            "type": "histogram2dcontour"
           }
          ],
          "mesh3d": [
           {
            "colorbar": {
             "outlinewidth": 0,
             "ticks": ""
            },
            "type": "mesh3d"
           }
          ],
          "parcoords": [
           {
            "line": {
             "colorbar": {
              "outlinewidth": 0,
              "ticks": ""
             }
            },
            "type": "parcoords"
           }
          ],
          "pie": [
           {
            "automargin": true,
            "type": "pie"
           }
          ],
          "scatter": [
           {
            "marker": {
             "colorbar": {
              "outlinewidth": 0,
              "ticks": ""
             }
            },
            "type": "scatter"
           }
          ],
          "scatter3d": [
           {
            "line": {
             "colorbar": {
              "outlinewidth": 0,
              "ticks": ""
             }
            },
            "marker": {
             "colorbar": {
              "outlinewidth": 0,
              "ticks": ""
             }
            },
            "type": "scatter3d"
           }
          ],
          "scattercarpet": [
           {
            "marker": {
             "colorbar": {
              "outlinewidth": 0,
              "ticks": ""
             }
            },
            "type": "scattercarpet"
           }
          ],
          "scattergeo": [
           {
            "marker": {
             "colorbar": {
              "outlinewidth": 0,
              "ticks": ""
             }
            },
            "type": "scattergeo"
           }
          ],
          "scattergl": [
           {
            "marker": {
             "colorbar": {
              "outlinewidth": 0,
              "ticks": ""
             }
            },
            "type": "scattergl"
           }
          ],
          "scattermapbox": [
           {
            "marker": {
             "colorbar": {
              "outlinewidth": 0,
              "ticks": ""
             }
            },
            "type": "scattermapbox"
           }
          ],
          "scatterpolar": [
           {
            "marker": {
             "colorbar": {
              "outlinewidth": 0,
              "ticks": ""
             }
            },
            "type": "scatterpolar"
           }
          ],
          "scatterpolargl": [
           {
            "marker": {
             "colorbar": {
              "outlinewidth": 0,
              "ticks": ""
             }
            },
            "type": "scatterpolargl"
           }
          ],
          "scatterternary": [
           {
            "marker": {
             "colorbar": {
              "outlinewidth": 0,
              "ticks": ""
             }
            },
            "type": "scatterternary"
           }
          ],
          "surface": [
           {
            "colorbar": {
             "outlinewidth": 0,
             "ticks": ""
            },
            "colorscale": [
             [
              0,
              "#0d0887"
             ],
             [
              0.1111111111111111,
              "#46039f"
             ],
             [
              0.2222222222222222,
              "#7201a8"
             ],
             [
              0.3333333333333333,
              "#9c179e"
             ],
             [
              0.4444444444444444,
              "#bd3786"
             ],
             [
              0.5555555555555556,
              "#d8576b"
             ],
             [
              0.6666666666666666,
              "#ed7953"
             ],
             [
              0.7777777777777778,
              "#fb9f3a"
             ],
             [
              0.8888888888888888,
              "#fdca26"
             ],
             [
              1,
              "#f0f921"
             ]
            ],
            "type": "surface"
           }
          ],
          "table": [
           {
            "cells": {
             "fill": {
              "color": "#EBF0F8"
             },
             "line": {
              "color": "white"
             }
            },
            "header": {
             "fill": {
              "color": "#C8D4E3"
             },
             "line": {
              "color": "white"
             }
            },
            "type": "table"
           }
          ]
         },
         "layout": {
          "annotationdefaults": {
           "arrowcolor": "#2a3f5f",
           "arrowhead": 0,
           "arrowwidth": 1
          },
          "autotypenumbers": "strict",
          "coloraxis": {
           "colorbar": {
            "outlinewidth": 0,
            "ticks": ""
           }
          },
          "colorscale": {
           "diverging": [
            [
             0,
             "#8e0152"
            ],
            [
             0.1,
             "#c51b7d"
            ],
            [
             0.2,
             "#de77ae"
            ],
            [
             0.3,
             "#f1b6da"
            ],
            [
             0.4,
             "#fde0ef"
            ],
            [
             0.5,
             "#f7f7f7"
            ],
            [
             0.6,
             "#e6f5d0"
            ],
            [
             0.7,
             "#b8e186"
            ],
            [
             0.8,
             "#7fbc41"
            ],
            [
             0.9,
             "#4d9221"
            ],
            [
             1,
             "#276419"
            ]
           ],
           "sequential": [
            [
             0,
             "#0d0887"
            ],
            [
             0.1111111111111111,
             "#46039f"
            ],
            [
             0.2222222222222222,
             "#7201a8"
            ],
            [
             0.3333333333333333,
             "#9c179e"
            ],
            [
             0.4444444444444444,
             "#bd3786"
            ],
            [
             0.5555555555555556,
             "#d8576b"
            ],
            [
             0.6666666666666666,
             "#ed7953"
            ],
            [
             0.7777777777777778,
             "#fb9f3a"
            ],
            [
             0.8888888888888888,
             "#fdca26"
            ],
            [
             1,
             "#f0f921"
            ]
           ],
           "sequentialminus": [
            [
             0,
             "#0d0887"
            ],
            [
             0.1111111111111111,
             "#46039f"
            ],
            [
             0.2222222222222222,
             "#7201a8"
            ],
            [
             0.3333333333333333,
             "#9c179e"
            ],
            [
             0.4444444444444444,
             "#bd3786"
            ],
            [
             0.5555555555555556,
             "#d8576b"
            ],
            [
             0.6666666666666666,
             "#ed7953"
            ],
            [
             0.7777777777777778,
             "#fb9f3a"
            ],
            [
             0.8888888888888888,
             "#fdca26"
            ],
            [
             1,
             "#f0f921"
            ]
           ]
          },
          "colorway": [
           "#636efa",
           "#EF553B",
           "#00cc96",
           "#ab63fa",
           "#FFA15A",
           "#19d3f3",
           "#FF6692",
           "#B6E880",
           "#FF97FF",
           "#FECB52"
          ],
          "font": {
           "color": "#2a3f5f"
          },
          "geo": {
           "bgcolor": "white",
           "lakecolor": "white",
           "landcolor": "#E5ECF6",
           "showlakes": true,
           "showland": true,
           "subunitcolor": "white"
          },
          "hoverlabel": {
           "align": "left"
          },
          "hovermode": "closest",
          "mapbox": {
           "style": "light"
          },
          "paper_bgcolor": "white",
          "plot_bgcolor": "#E5ECF6",
          "polar": {
           "angularaxis": {
            "gridcolor": "white",
            "linecolor": "white",
            "ticks": ""
           },
           "bgcolor": "#E5ECF6",
           "radialaxis": {
            "gridcolor": "white",
            "linecolor": "white",
            "ticks": ""
           }
          },
          "scene": {
           "xaxis": {
            "backgroundcolor": "#E5ECF6",
            "gridcolor": "white",
            "gridwidth": 2,
            "linecolor": "white",
            "showbackground": true,
            "ticks": "",
            "zerolinecolor": "white"
           },
           "yaxis": {
            "backgroundcolor": "#E5ECF6",
            "gridcolor": "white",
            "gridwidth": 2,
            "linecolor": "white",
            "showbackground": true,
            "ticks": "",
            "zerolinecolor": "white"
           },
           "zaxis": {
            "backgroundcolor": "#E5ECF6",
            "gridcolor": "white",
            "gridwidth": 2,
            "linecolor": "white",
            "showbackground": true,
            "ticks": "",
            "zerolinecolor": "white"
           }
          },
          "shapedefaults": {
           "line": {
            "color": "#2a3f5f"
           }
          },
          "ternary": {
           "aaxis": {
            "gridcolor": "white",
            "linecolor": "white",
            "ticks": ""
           },
           "baxis": {
            "gridcolor": "white",
            "linecolor": "white",
            "ticks": ""
           },
           "bgcolor": "#E5ECF6",
           "caxis": {
            "gridcolor": "white",
            "linecolor": "white",
            "ticks": ""
           }
          },
          "title": {
           "x": 0.05
          },
          "xaxis": {
           "automargin": true,
           "gridcolor": "white",
           "linecolor": "white",
           "ticks": "",
           "title": {
            "standoff": 15
           },
           "zerolinecolor": "white",
           "zerolinewidth": 2
          },
          "yaxis": {
           "automargin": true,
           "gridcolor": "white",
           "linecolor": "white",
           "ticks": "",
           "title": {
            "standoff": 15
           },
           "zerolinecolor": "white",
           "zerolinewidth": 2
          }
         }
        },
        "title": {
         "text": "2010-15 HDI of the world"
        }
       }
      },
      "text/html": [
       "<div>                            <div id=\"31517f3c-5cb0-4e3e-aee8-8c3a0143dc75\" class=\"plotly-graph-div\" style=\"height:525px; width:100%;\"></div>            <script type=\"text/javascript\">                require([\"plotly\"], function(Plotly) {                    window.PLOTLYENV=window.PLOTLYENV || {};                                    if (document.getElementById(\"31517f3c-5cb0-4e3e-aee8-8c3a0143dc75\")) {                    Plotly.newPlot(                        \"31517f3c-5cb0-4e3e-aee8-8c3a0143dc75\",                        [{\"colorbar\":{\"title\":{\"text\":\"HDI of the world\"}},\"colorscale\":[[0.0,\"rgb(252, 222, 156)\"],[0.16666666666666666,\"rgb(250, 164, 118)\"],[0.3333333333333333,\"rgb(240, 116, 110)\"],[0.5,\"rgb(227, 79, 111)\"],[0.6666666666666666,\"rgb(220, 57, 119)\"],[0.8333333333333334,\"rgb(185, 37, 122)\"],[1.0,\"rgb(124, 29, 111)\"]],\"locations\":[\"Norway\",\"Australia\",\"Switzerland\",\"Germany\",\"Denmark\",\"Singapore\",\"Netherlands\",\"Ireland\",\"Iceland\",\"Canada\",\"United States\",\"Hong Kong, China (SAR)\",\"New Zealand\",\"Sweden\",\"Liechtenstein\",\"United Kingdom\",\"Japan\",\"Korea (Republic of)\",\"Israel\",\"Luxembourg\",\"France\",\"Belgium\",\"Finland\",\"Austria\",\"Slovenia\",\"Italy\",\"Spain\",\"Czech Republic\",\"Greece\",\"Brunei Darussalam\",\"Estonia\",\"Andorra\",\"Cyprus\",\"Malta\",\"Qatar\",\"Poland\",\"Lithuania\",\"Chile\",\"Saudi Arabia\",\"Slovakia\",\"Portugal\",\"United Arab Emirates\",\"Hungary\",\"Latvia\",\"Argentina\",\"Croatia\",\"Bahrain\",\"Montenegro\",\"Russian Federation\",\"Romania\",\"Kuwait\",\"Belarus\",\"Oman\",\"Barbados\",\"Uruguay\",\"Bulgaria\",\"Kazakhstan\",\"Bahamas\",\"Malaysia\",\"Palau\",\"Panama\",\"Antigua and Barbuda\",\"Seychelles\",\"Mauritius\",\"Trinidad and Tobago\",\"Costa Rica\",\"Serbia\",\"Cuba\",\"Iran (Islamic Republic of)\",\"Georgia\",\"Turkey\",\"Venezuela (Bolivarian Republic of)\",\"Sri Lanka\",\"Saint Kitts and Nevis\",\"Albania\",\"Lebanon\",\"Mexico\",\"Azerbaijan\",\"Brazil\",\"Grenada\",\"Bosnia and Herzegovina\",\"The former Yugoslav Republic of Macedonia\",\"Algeria\",\"Armenia\",\"Ukraine\",\"Jordan\",\"Peru\",\"Thailand\",\"Ecuador\",\"China\",\"Fiji\",\"Mongolia\",\"Saint Lucia\",\"Jamaica\",\"Colombia\",\"Dominica\",\"Suriname\",\"Tunisia\",\"Dominican Republic\",\"Saint Vincent and the Grenadines\",\"Tonga\",\"Libya\",\"Belize\",\"Samoa\",\"Maldives\",\"Uzbekistan\",\"Moldova (Republic of)\",\"Botswana\",\"Gabon\",\"Paraguay\",\"Egypt\",\"Turkmenistan\",\"Indonesia\",\"Palestine, State of\",\"Viet Nam\",\"Philippines\",\"El Salvador\",\"Bolivia (Plurinational State of)\",\"South Africa\",\"Kyrgyzstan\",\"Iraq\",\"Cabo Verde\",\"Morocco\",\"Nicaragua\",\"Guatemala\",\"Namibia\",\"Guyana\",\"Micronesia (Federated States of)\",\"Tajikistan\",\"Honduras\",\"India\",\"Bhutan\",\"Timor-Leste\",\"Vanuatu\",\"Congo\",\"Equatorial Guinea\",\"Kiribati\",\"Lao People's Democratic Republic\",\"Bangladesh\",\"Ghana\",\"Zambia\",\"Sao Tome and Principe\",\"Cambodia\",\"Nepal\",\"Myanmar\",\"Kenya\",\"Pakistan\",\"Swaziland\",\"Syrian Arab Republic\",\"Angola\",\"Tanzania (United Republic of)\",\"Nigeria\",\"Cameroon\",\"Papua New Guinea\",\"Zimbabwe\",\"Solomon Islands\",\"Mauritania\",\"Madagascar\",\"Rwanda\",\"Comoros\",\"Lesotho\",\"Senegal\",\"Haiti\",\"Uganda\",\"Sudan\",\"Togo\",\"Benin\",\"Yemen\",\"Afghanistan\",\"Malawi\",\"C\\u00f4te d'Ivoire\",\"Djibouti\",\"Gambia\",\"Ethiopia\",\"Mali\",\"Congo (Democratic Republic of the)\",\"Liberia\",\"Guinea-Bissau\",\"Eritrea\",\"Sierra Leone\",\"Mozambique\",\"South Sudan\",\"Guinea\",\"Burundi\",\"Burkina Faso\",\"Chad\",\"Niger\",\"Central African Republic\",\"Korea (Democratic People's Rep. of)\",\"Marshall Islands\",\"Monaco\",\"Nauru\",\"San Marino\",\"Somalia\",\"Tuvalu\"],\"marker\":{\"line\":{\"color\":\"rgb(255,255,255)\",\"width\":1}},\"text\":[\"Norway\",\"Australia\",\"Switzerland\",\"Germany\",\"Denmark\",\"Singapore\",\"Netherlands\",\"Ireland\",\"Iceland\",\"Canada\",\"United States\",\"Hong Kong, China (SAR)\",\"New Zealand\",\"Sweden\",\"Liechtenstein\",\"United Kingdom\",\"Japan\",\"Korea (Republic of)\",\"Israel\",\"Luxembourg\",\"France\",\"Belgium\",\"Finland\",\"Austria\",\"Slovenia\",\"Italy\",\"Spain\",\"Czech Republic\",\"Greece\",\"Brunei Darussalam\",\"Estonia\",\"Andorra\",\"Cyprus\",\"Malta\",\"Qatar\",\"Poland\",\"Lithuania\",\"Chile\",\"Saudi Arabia\",\"Slovakia\",\"Portugal\",\"United Arab Emirates\",\"Hungary\",\"Latvia\",\"Argentina\",\"Croatia\",\"Bahrain\",\"Montenegro\",\"Russian Federation\",\"Romania\",\"Kuwait\",\"Belarus\",\"Oman\",\"Barbados\",\"Uruguay\",\"Bulgaria\",\"Kazakhstan\",\"Bahamas\",\"Malaysia\",\"Palau\",\"Panama\",\"Antigua and Barbuda\",\"Seychelles\",\"Mauritius\",\"Trinidad and Tobago\",\"Costa Rica\",\"Serbia\",\"Cuba\",\"Iran (Islamic Republic of)\",\"Georgia\",\"Turkey\",\"Venezuela (Bolivarian Republic of)\",\"Sri Lanka\",\"Saint Kitts and Nevis\",\"Albania\",\"Lebanon\",\"Mexico\",\"Azerbaijan\",\"Brazil\",\"Grenada\",\"Bosnia and Herzegovina\",\"The former Yugoslav Republic of Macedonia\",\"Algeria\",\"Armenia\",\"Ukraine\",\"Jordan\",\"Peru\",\"Thailand\",\"Ecuador\",\"China\",\"Fiji\",\"Mongolia\",\"Saint Lucia\",\"Jamaica\",\"Colombia\",\"Dominica\",\"Suriname\",\"Tunisia\",\"Dominican Republic\",\"Saint Vincent and the Grenadines\",\"Tonga\",\"Libya\",\"Belize\",\"Samoa\",\"Maldives\",\"Uzbekistan\",\"Moldova (Republic of)\",\"Botswana\",\"Gabon\",\"Paraguay\",\"Egypt\",\"Turkmenistan\",\"Indonesia\",\"Palestine, State of\",\"Viet Nam\",\"Philippines\",\"El Salvador\",\"Bolivia (Plurinational State of)\",\"South Africa\",\"Kyrgyzstan\",\"Iraq\",\"Cabo Verde\",\"Morocco\",\"Nicaragua\",\"Guatemala\",\"Namibia\",\"Guyana\",\"Micronesia (Federated States of)\",\"Tajikistan\",\"Honduras\",\"India\",\"Bhutan\",\"Timor-Leste\",\"Vanuatu\",\"Congo\",\"Equatorial Guinea\",\"Kiribati\",\"Lao People's Democratic Republic\",\"Bangladesh\",\"Ghana\",\"Zambia\",\"Sao Tome and Principe\",\"Cambodia\",\"Nepal\",\"Myanmar\",\"Kenya\",\"Pakistan\",\"Swaziland\",\"Syrian Arab Republic\",\"Angola\",\"Tanzania (United Republic of)\",\"Nigeria\",\"Cameroon\",\"Papua New Guinea\",\"Zimbabwe\",\"Solomon Islands\",\"Mauritania\",\"Madagascar\",\"Rwanda\",\"Comoros\",\"Lesotho\",\"Senegal\",\"Haiti\",\"Uganda\",\"Sudan\",\"Togo\",\"Benin\",\"Yemen\",\"Afghanistan\",\"Malawi\",\"C\\u00f4te d'Ivoire\",\"Djibouti\",\"Gambia\",\"Ethiopia\",\"Mali\",\"Congo (Democratic Republic of the)\",\"Liberia\",\"Guinea-Bissau\",\"Eritrea\",\"Sierra Leone\",\"Mozambique\",\"South Sudan\",\"Guinea\",\"Burundi\",\"Burkina Faso\",\"Chad\",\"Niger\",\"Central African Republic\",\"Korea (Democratic People's Rep. of)\",\"Marshall Islands\",\"Monaco\",\"Nauru\",\"San Marino\",\"Somalia\",\"Tuvalu\"],\"type\":\"choropleth\",\"z\":[0.9490000000000001,0.9390000000000001,0.9390000000000001,0.9259999999999999,0.925,0.925,0.924,0.9229999999999999,0.9209999999999999,0.92,0.92,0.917,0.915,0.9129999999999999,0.912,0.909,0.903,0.9009999999999999,0.899,0.898,0.897,0.8959999999999999,0.895,0.893,0.89,0.887,0.884,0.878,0.866,0.865,0.865,0.858,0.856,0.856,0.856,0.855,0.848,0.847,0.847,0.845,0.843,0.84,0.836,0.83,0.8270000000000001,0.8270000000000001,0.8240000000000001,0.807,0.804,0.802,0.8,0.7959999999999999,0.7959999999999999,0.795,0.795,0.794,0.794,0.792,0.789,0.7879999999999999,0.7879999999999999,0.7859999999999999,0.782,0.7809999999999999,0.78,0.7759999999999999,0.7759999999999999,0.775,0.774,0.769,0.767,0.767,0.7659999999999999,0.765,0.764,0.763,0.762,0.759,0.754,0.754,0.75,0.748,0.745,0.743,0.743,0.741,0.74,0.74,0.7390000000000001,0.738,0.736,0.735,0.735,0.73,0.727,0.726,0.725,0.725,0.722,0.722,0.721,0.716,0.706,0.7040000000000001,0.701,0.701,0.6990000000000001,0.698,0.6970000000000001,0.693,0.691,0.691,0.6890000000000001,0.684,0.6829999999999999,0.682,0.68,0.674,0.6659999999999999,0.664,0.649,0.648,0.647,0.645,0.64,0.64,0.638,0.638,0.627,0.625,0.624,0.607,0.605,0.597,0.5920000000000001,0.5920000000000001,0.588,0.586,0.579,0.579,0.579,0.574,0.563,0.5579999999999999,0.556,0.555,0.55,0.541,0.536,0.5329999999999999,0.531,0.527,0.518,0.516,0.516,0.515,0.513,0.512,0.498,0.49700000000000005,0.49700000000000005,0.494,0.493,0.493,0.49,0.48700000000000004,0.485,0.48200000000000004,0.479,0.47600000000000003,0.474,0.473,0.452,0.44799999999999995,0.442,0.435,0.42700000000000005,0.424,0.42,0.42,0.418,0.418,0.414,0.40399999999999997,0.402,0.396,0.353,0.35200000000000004,null,null,null,null,null,null,null]}],                        {\"geo\":{\"lakecolor\":\"rgb(85,173,240)\",\"projection\":{\"type\":\"hammer\"},\"scope\":\"world\",\"showlakes\":true},\"template\":{\"data\":{\"bar\":[{\"error_x\":{\"color\":\"#2a3f5f\"},\"error_y\":{\"color\":\"#2a3f5f\"},\"marker\":{\"line\":{\"color\":\"#E5ECF6\",\"width\":0.5},\"pattern\":{\"fillmode\":\"overlay\",\"size\":10,\"solidity\":0.2}},\"type\":\"bar\"}],\"barpolar\":[{\"marker\":{\"line\":{\"color\":\"#E5ECF6\",\"width\":0.5},\"pattern\":{\"fillmode\":\"overlay\",\"size\":10,\"solidity\":0.2}},\"type\":\"barpolar\"}],\"carpet\":[{\"aaxis\":{\"endlinecolor\":\"#2a3f5f\",\"gridcolor\":\"white\",\"linecolor\":\"white\",\"minorgridcolor\":\"white\",\"startlinecolor\":\"#2a3f5f\"},\"baxis\":{\"endlinecolor\":\"#2a3f5f\",\"gridcolor\":\"white\",\"linecolor\":\"white\",\"minorgridcolor\":\"white\",\"startlinecolor\":\"#2a3f5f\"},\"type\":\"carpet\"}],\"choropleth\":[{\"colorbar\":{\"outlinewidth\":0,\"ticks\":\"\"},\"type\":\"choropleth\"}],\"contour\":[{\"colorbar\":{\"outlinewidth\":0,\"ticks\":\"\"},\"colorscale\":[[0.0,\"#0d0887\"],[0.1111111111111111,\"#46039f\"],[0.2222222222222222,\"#7201a8\"],[0.3333333333333333,\"#9c179e\"],[0.4444444444444444,\"#bd3786\"],[0.5555555555555556,\"#d8576b\"],[0.6666666666666666,\"#ed7953\"],[0.7777777777777778,\"#fb9f3a\"],[0.8888888888888888,\"#fdca26\"],[1.0,\"#f0f921\"]],\"type\":\"contour\"}],\"contourcarpet\":[{\"colorbar\":{\"outlinewidth\":0,\"ticks\":\"\"},\"type\":\"contourcarpet\"}],\"heatmap\":[{\"colorbar\":{\"outlinewidth\":0,\"ticks\":\"\"},\"colorscale\":[[0.0,\"#0d0887\"],[0.1111111111111111,\"#46039f\"],[0.2222222222222222,\"#7201a8\"],[0.3333333333333333,\"#9c179e\"],[0.4444444444444444,\"#bd3786\"],[0.5555555555555556,\"#d8576b\"],[0.6666666666666666,\"#ed7953\"],[0.7777777777777778,\"#fb9f3a\"],[0.8888888888888888,\"#fdca26\"],[1.0,\"#f0f921\"]],\"type\":\"heatmap\"}],\"heatmapgl\":[{\"colorbar\":{\"outlinewidth\":0,\"ticks\":\"\"},\"colorscale\":[[0.0,\"#0d0887\"],[0.1111111111111111,\"#46039f\"],[0.2222222222222222,\"#7201a8\"],[0.3333333333333333,\"#9c179e\"],[0.4444444444444444,\"#bd3786\"],[0.5555555555555556,\"#d8576b\"],[0.6666666666666666,\"#ed7953\"],[0.7777777777777778,\"#fb9f3a\"],[0.8888888888888888,\"#fdca26\"],[1.0,\"#f0f921\"]],\"type\":\"heatmapgl\"}],\"histogram\":[{\"marker\":{\"pattern\":{\"fillmode\":\"overlay\",\"size\":10,\"solidity\":0.2}},\"type\":\"histogram\"}],\"histogram2d\":[{\"colorbar\":{\"outlinewidth\":0,\"ticks\":\"\"},\"colorscale\":[[0.0,\"#0d0887\"],[0.1111111111111111,\"#46039f\"],[0.2222222222222222,\"#7201a8\"],[0.3333333333333333,\"#9c179e\"],[0.4444444444444444,\"#bd3786\"],[0.5555555555555556,\"#d8576b\"],[0.6666666666666666,\"#ed7953\"],[0.7777777777777778,\"#fb9f3a\"],[0.8888888888888888,\"#fdca26\"],[1.0,\"#f0f921\"]],\"type\":\"histogram2d\"}],\"histogram2dcontour\":[{\"colorbar\":{\"outlinewidth\":0,\"ticks\":\"\"},\"colorscale\":[[0.0,\"#0d0887\"],[0.1111111111111111,\"#46039f\"],[0.2222222222222222,\"#7201a8\"],[0.3333333333333333,\"#9c179e\"],[0.4444444444444444,\"#bd3786\"],[0.5555555555555556,\"#d8576b\"],[0.6666666666666666,\"#ed7953\"],[0.7777777777777778,\"#fb9f3a\"],[0.8888888888888888,\"#fdca26\"],[1.0,\"#f0f921\"]],\"type\":\"histogram2dcontour\"}],\"mesh3d\":[{\"colorbar\":{\"outlinewidth\":0,\"ticks\":\"\"},\"type\":\"mesh3d\"}],\"parcoords\":[{\"line\":{\"colorbar\":{\"outlinewidth\":0,\"ticks\":\"\"}},\"type\":\"parcoords\"}],\"pie\":[{\"automargin\":true,\"type\":\"pie\"}],\"scatter\":[{\"marker\":{\"colorbar\":{\"outlinewidth\":0,\"ticks\":\"\"}},\"type\":\"scatter\"}],\"scatter3d\":[{\"line\":{\"colorbar\":{\"outlinewidth\":0,\"ticks\":\"\"}},\"marker\":{\"colorbar\":{\"outlinewidth\":0,\"ticks\":\"\"}},\"type\":\"scatter3d\"}],\"scattercarpet\":[{\"marker\":{\"colorbar\":{\"outlinewidth\":0,\"ticks\":\"\"}},\"type\":\"scattercarpet\"}],\"scattergeo\":[{\"marker\":{\"colorbar\":{\"outlinewidth\":0,\"ticks\":\"\"}},\"type\":\"scattergeo\"}],\"scattergl\":[{\"marker\":{\"colorbar\":{\"outlinewidth\":0,\"ticks\":\"\"}},\"type\":\"scattergl\"}],\"scattermapbox\":[{\"marker\":{\"colorbar\":{\"outlinewidth\":0,\"ticks\":\"\"}},\"type\":\"scattermapbox\"}],\"scatterpolar\":[{\"marker\":{\"colorbar\":{\"outlinewidth\":0,\"ticks\":\"\"}},\"type\":\"scatterpolar\"}],\"scatterpolargl\":[{\"marker\":{\"colorbar\":{\"outlinewidth\":0,\"ticks\":\"\"}},\"type\":\"scatterpolargl\"}],\"scatterternary\":[{\"marker\":{\"colorbar\":{\"outlinewidth\":0,\"ticks\":\"\"}},\"type\":\"scatterternary\"}],\"surface\":[{\"colorbar\":{\"outlinewidth\":0,\"ticks\":\"\"},\"colorscale\":[[0.0,\"#0d0887\"],[0.1111111111111111,\"#46039f\"],[0.2222222222222222,\"#7201a8\"],[0.3333333333333333,\"#9c179e\"],[0.4444444444444444,\"#bd3786\"],[0.5555555555555556,\"#d8576b\"],[0.6666666666666666,\"#ed7953\"],[0.7777777777777778,\"#fb9f3a\"],[0.8888888888888888,\"#fdca26\"],[1.0,\"#f0f921\"]],\"type\":\"surface\"}],\"table\":[{\"cells\":{\"fill\":{\"color\":\"#EBF0F8\"},\"line\":{\"color\":\"white\"}},\"header\":{\"fill\":{\"color\":\"#C8D4E3\"},\"line\":{\"color\":\"white\"}},\"type\":\"table\"}]},\"layout\":{\"annotationdefaults\":{\"arrowcolor\":\"#2a3f5f\",\"arrowhead\":0,\"arrowwidth\":1},\"autotypenumbers\":\"strict\",\"coloraxis\":{\"colorbar\":{\"outlinewidth\":0,\"ticks\":\"\"}},\"colorscale\":{\"diverging\":[[0,\"#8e0152\"],[0.1,\"#c51b7d\"],[0.2,\"#de77ae\"],[0.3,\"#f1b6da\"],[0.4,\"#fde0ef\"],[0.5,\"#f7f7f7\"],[0.6,\"#e6f5d0\"],[0.7,\"#b8e186\"],[0.8,\"#7fbc41\"],[0.9,\"#4d9221\"],[1,\"#276419\"]],\"sequential\":[[0.0,\"#0d0887\"],[0.1111111111111111,\"#46039f\"],[0.2222222222222222,\"#7201a8\"],[0.3333333333333333,\"#9c179e\"],[0.4444444444444444,\"#bd3786\"],[0.5555555555555556,\"#d8576b\"],[0.6666666666666666,\"#ed7953\"],[0.7777777777777778,\"#fb9f3a\"],[0.8888888888888888,\"#fdca26\"],[1.0,\"#f0f921\"]],\"sequentialminus\":[[0.0,\"#0d0887\"],[0.1111111111111111,\"#46039f\"],[0.2222222222222222,\"#7201a8\"],[0.3333333333333333,\"#9c179e\"],[0.4444444444444444,\"#bd3786\"],[0.5555555555555556,\"#d8576b\"],[0.6666666666666666,\"#ed7953\"],[0.7777777777777778,\"#fb9f3a\"],[0.8888888888888888,\"#fdca26\"],[1.0,\"#f0f921\"]]},\"colorway\":[\"#636efa\",\"#EF553B\",\"#00cc96\",\"#ab63fa\",\"#FFA15A\",\"#19d3f3\",\"#FF6692\",\"#B6E880\",\"#FF97FF\",\"#FECB52\"],\"font\":{\"color\":\"#2a3f5f\"},\"geo\":{\"bgcolor\":\"white\",\"lakecolor\":\"white\",\"landcolor\":\"#E5ECF6\",\"showlakes\":true,\"showland\":true,\"subunitcolor\":\"white\"},\"hoverlabel\":{\"align\":\"left\"},\"hovermode\":\"closest\",\"mapbox\":{\"style\":\"light\"},\"paper_bgcolor\":\"white\",\"plot_bgcolor\":\"#E5ECF6\",\"polar\":{\"angularaxis\":{\"gridcolor\":\"white\",\"linecolor\":\"white\",\"ticks\":\"\"},\"bgcolor\":\"#E5ECF6\",\"radialaxis\":{\"gridcolor\":\"white\",\"linecolor\":\"white\",\"ticks\":\"\"}},\"scene\":{\"xaxis\":{\"backgroundcolor\":\"#E5ECF6\",\"gridcolor\":\"white\",\"gridwidth\":2,\"linecolor\":\"white\",\"showbackground\":true,\"ticks\":\"\",\"zerolinecolor\":\"white\"},\"yaxis\":{\"backgroundcolor\":\"#E5ECF6\",\"gridcolor\":\"white\",\"gridwidth\":2,\"linecolor\":\"white\",\"showbackground\":true,\"ticks\":\"\",\"zerolinecolor\":\"white\"},\"zaxis\":{\"backgroundcolor\":\"#E5ECF6\",\"gridcolor\":\"white\",\"gridwidth\":2,\"linecolor\":\"white\",\"showbackground\":true,\"ticks\":\"\",\"zerolinecolor\":\"white\"}},\"shapedefaults\":{\"line\":{\"color\":\"#2a3f5f\"}},\"ternary\":{\"aaxis\":{\"gridcolor\":\"white\",\"linecolor\":\"white\",\"ticks\":\"\"},\"baxis\":{\"gridcolor\":\"white\",\"linecolor\":\"white\",\"ticks\":\"\"},\"bgcolor\":\"#E5ECF6\",\"caxis\":{\"gridcolor\":\"white\",\"linecolor\":\"white\",\"ticks\":\"\"}},\"title\":{\"x\":0.05},\"xaxis\":{\"automargin\":true,\"gridcolor\":\"white\",\"linecolor\":\"white\",\"ticks\":\"\",\"title\":{\"standoff\":15},\"zerolinecolor\":\"white\",\"zerolinewidth\":2},\"yaxis\":{\"automargin\":true,\"gridcolor\":\"white\",\"linecolor\":\"white\",\"ticks\":\"\",\"title\":{\"standoff\":15},\"zerolinecolor\":\"white\",\"zerolinewidth\":2}}},\"title\":{\"text\":\"2010-15 HDI of the world\"}},                        {\"responsive\": true}                    ).then(function(){\n",
       "                            \n",
       "var gd = document.getElementById('31517f3c-5cb0-4e3e-aee8-8c3a0143dc75');\n",
       "var x = new MutationObserver(function (mutations, observer) {{\n",
       "        var display = window.getComputedStyle(gd).display;\n",
       "        if (!display || display === 'none') {{\n",
       "            console.log([gd, 'removed!']);\n",
       "            Plotly.purge(gd);\n",
       "            observer.disconnect();\n",
       "        }}\n",
       "}});\n",
       "\n",
       "// Listen for the removal of the full notebook cells\n",
       "var notebookContainer = gd.closest('#notebook-container');\n",
       "if (notebookContainer) {{\n",
       "    x.observe(notebookContainer, {childList: true});\n",
       "}}\n",
       "\n",
       "// Listen for the clearing of the current output cell\n",
       "var outputEl = gd.closest('.output');\n",
       "if (outputEl) {{\n",
       "    x.observe(outputEl, {childList: true});\n",
       "}}\n",
       "\n",
       "                        })                };                });            </script>        </div>"
      ]
     },
     "metadata": {},
     "output_type": "display_data"
    }
   ],
   "source": [
    "iplot(choromap)"
   ]
  },
  {
   "cell_type": "code",
   "execution_count": 74,
   "metadata": {},
   "outputs": [
    {
     "data": {
      "text/plain": [
       "Grenada                1\n",
       "Uruguay                1\n",
       "Mali                   1\n",
       "Jamaica                1\n",
       "Ethiopia               1\n",
       "                      ..\n",
       "Russian Federation     1\n",
       "Chile                  1\n",
       "Finland                1\n",
       "Antigua and Barbuda    1\n",
       "Egypt                  1\n",
       "Name: Country, Length: 195, dtype: int64"
      ]
     },
     "execution_count": 74,
     "metadata": {},
     "output_type": "execute_result"
    }
   ],
   "source": [
    "df['Country'].value_counts()"
   ]
  },
  {
   "cell_type": "code",
   "execution_count": 82,
   "metadata": {},
   "outputs": [
    {
     "data": {
      "text/plain": [
       "'C:\\\\Users\\\\ADMIN\\\\Downloads'"
      ]
     },
     "execution_count": 82,
     "metadata": {},
     "output_type": "execute_result"
    }
   ],
   "source": [
    "pwd"
   ]
  },
  {
   "cell_type": "code",
   "execution_count": 81,
   "metadata": {},
   "outputs": [],
   "source": [
    "df2 = pd.read_csv('Refactored_Py_DS_ML_Bootcamp-master/09-Geographical-Plotting/2014_World_GDP')"
   ]
  },
  {
   "cell_type": "code",
   "execution_count": 91,
   "metadata": {},
   "outputs": [],
   "source": [
    "df=df.rename(columns={'Country':'COUNTRY'})"
   ]
  },
  {
   "cell_type": "code",
   "execution_count": 92,
   "metadata": {},
   "outputs": [],
   "source": [
    "df=pd.merge(df,df2,how='left',on=['COUNTRY'])"
   ]
  },
  {
   "cell_type": "code",
   "execution_count": 93,
   "metadata": {},
   "outputs": [
    {
     "data": {
      "text/html": [
       "<div>\n",
       "<style scoped>\n",
       "    .dataframe tbody tr th:only-of-type {\n",
       "        vertical-align: middle;\n",
       "    }\n",
       "\n",
       "    .dataframe tbody tr th {\n",
       "        vertical-align: top;\n",
       "    }\n",
       "\n",
       "    .dataframe thead th {\n",
       "        text-align: right;\n",
       "    }\n",
       "</style>\n",
       "<table border=\"1\" class=\"dataframe\">\n",
       "  <thead>\n",
       "    <tr style=\"text-align: right;\">\n",
       "      <th></th>\n",
       "      <th>Unnamed: 0</th>\n",
       "      <th>Id</th>\n",
       "      <th>COUNTRY</th>\n",
       "      <th>HDI Rank</th>\n",
       "      <th>HDI</th>\n",
       "      <th>Life expectancy</th>\n",
       "      <th>Mean years of schooling</th>\n",
       "      <th>Gross national income (GNI) per capita</th>\n",
       "      <th>GNI per capita rank minus HDI rank</th>\n",
       "      <th>Change in HDI rank 2010-2015</th>\n",
       "      <th>...</th>\n",
       "      <th>Inequality-adjusted life expectancy index</th>\n",
       "      <th>Inequality in education(%)</th>\n",
       "      <th>Inequality-adjusted education index</th>\n",
       "      <th>Inequality in income (%)</th>\n",
       "      <th>Inequality-adjusted income index</th>\n",
       "      <th>Income inequality (Quintile ratio) 2010-2015</th>\n",
       "      <th>Income inequality (Palma ratio) 2010-2015</th>\n",
       "      <th>Income inequality (Gini coefficient) 2010-2015</th>\n",
       "      <th>GDP (BILLIONS)</th>\n",
       "      <th>CODE</th>\n",
       "    </tr>\n",
       "  </thead>\n",
       "  <tbody>\n",
       "    <tr>\n",
       "      <th>0</th>\n",
       "      <td>0</td>\n",
       "      <td>1</td>\n",
       "      <td>Norway</td>\n",
       "      <td>1.0</td>\n",
       "      <td>0.949</td>\n",
       "      <td>81.7</td>\n",
       "      <td>12.7</td>\n",
       "      <td>67614.0</td>\n",
       "      <td>5.0</td>\n",
       "      <td>0.0</td>\n",
       "      <td>...</td>\n",
       "      <td>0.918</td>\n",
       "      <td>2.4</td>\n",
       "      <td>0.894</td>\n",
       "      <td>10.4</td>\n",
       "      <td>0.882</td>\n",
       "      <td>3.8</td>\n",
       "      <td>0.9</td>\n",
       "      <td>25.9</td>\n",
       "      <td>511.6</td>\n",
       "      <td>NOR</td>\n",
       "    </tr>\n",
       "    <tr>\n",
       "      <th>1</th>\n",
       "      <td>1</td>\n",
       "      <td>2</td>\n",
       "      <td>Australia</td>\n",
       "      <td>2.0</td>\n",
       "      <td>0.939</td>\n",
       "      <td>82.5</td>\n",
       "      <td>13.2</td>\n",
       "      <td>42822.0</td>\n",
       "      <td>19.0</td>\n",
       "      <td>1.0</td>\n",
       "      <td>...</td>\n",
       "      <td>0.921</td>\n",
       "      <td>1.9</td>\n",
       "      <td>0.921</td>\n",
       "      <td>17.7</td>\n",
       "      <td>0.753</td>\n",
       "      <td>6.0</td>\n",
       "      <td>1.4</td>\n",
       "      <td>34.9</td>\n",
       "      <td>1483.0</td>\n",
       "      <td>AUS</td>\n",
       "    </tr>\n",
       "    <tr>\n",
       "      <th>2</th>\n",
       "      <td>2</td>\n",
       "      <td>3</td>\n",
       "      <td>Switzerland</td>\n",
       "      <td>2.0</td>\n",
       "      <td>0.939</td>\n",
       "      <td>83.1</td>\n",
       "      <td>13.4</td>\n",
       "      <td>56364.0</td>\n",
       "      <td>7.0</td>\n",
       "      <td>0.0</td>\n",
       "      <td>...</td>\n",
       "      <td>0.934</td>\n",
       "      <td>5.7</td>\n",
       "      <td>0.840</td>\n",
       "      <td>15.7</td>\n",
       "      <td>0.806</td>\n",
       "      <td>4.9</td>\n",
       "      <td>1.2</td>\n",
       "      <td>31.6</td>\n",
       "      <td>679.0</td>\n",
       "      <td>CHE</td>\n",
       "    </tr>\n",
       "    <tr>\n",
       "      <th>3</th>\n",
       "      <td>3</td>\n",
       "      <td>4</td>\n",
       "      <td>Germany</td>\n",
       "      <td>4.0</td>\n",
       "      <td>0.926</td>\n",
       "      <td>81.1</td>\n",
       "      <td>13.2</td>\n",
       "      <td>45000.0</td>\n",
       "      <td>13.0</td>\n",
       "      <td>0.0</td>\n",
       "      <td>...</td>\n",
       "      <td>0.905</td>\n",
       "      <td>2.6</td>\n",
       "      <td>0.891</td>\n",
       "      <td>14.8</td>\n",
       "      <td>0.787</td>\n",
       "      <td>4.6</td>\n",
       "      <td>1.1</td>\n",
       "      <td>30.1</td>\n",
       "      <td>3820.0</td>\n",
       "      <td>DEU</td>\n",
       "    </tr>\n",
       "    <tr>\n",
       "      <th>4</th>\n",
       "      <td>4</td>\n",
       "      <td>5</td>\n",
       "      <td>Denmark</td>\n",
       "      <td>5.0</td>\n",
       "      <td>0.925</td>\n",
       "      <td>80.4</td>\n",
       "      <td>12.7</td>\n",
       "      <td>44519.0</td>\n",
       "      <td>13.0</td>\n",
       "      <td>2.0</td>\n",
       "      <td>...</td>\n",
       "      <td>0.894</td>\n",
       "      <td>3.0</td>\n",
       "      <td>0.896</td>\n",
       "      <td>14.3</td>\n",
       "      <td>0.789</td>\n",
       "      <td>4.5</td>\n",
       "      <td>1.0</td>\n",
       "      <td>29.1</td>\n",
       "      <td>347.2</td>\n",
       "      <td>DNK</td>\n",
       "    </tr>\n",
       "  </tbody>\n",
       "</table>\n",
       "<p>5 rows × 84 columns</p>\n",
       "</div>"
      ],
      "text/plain": [
       "   Unnamed: 0  Id      COUNTRY  HDI Rank    HDI  Life expectancy  \\\n",
       "0           0   1       Norway       1.0  0.949             81.7   \n",
       "1           1   2    Australia       2.0  0.939             82.5   \n",
       "2           2   3  Switzerland       2.0  0.939             83.1   \n",
       "3           3   4      Germany       4.0  0.926             81.1   \n",
       "4           4   5      Denmark       5.0  0.925             80.4   \n",
       "\n",
       "   Mean years of schooling  Gross national income (GNI) per capita  \\\n",
       "0                     12.7                                 67614.0   \n",
       "1                     13.2                                 42822.0   \n",
       "2                     13.4                                 56364.0   \n",
       "3                     13.2                                 45000.0   \n",
       "4                     12.7                                 44519.0   \n",
       "\n",
       "   GNI per capita rank minus HDI rank  Change in HDI rank 2010-2015  ...  \\\n",
       "0                                 5.0                           0.0  ...   \n",
       "1                                19.0                           1.0  ...   \n",
       "2                                 7.0                           0.0  ...   \n",
       "3                                13.0                           0.0  ...   \n",
       "4                                13.0                           2.0  ...   \n",
       "\n",
       "   Inequality-adjusted life expectancy index  Inequality in education(%)  \\\n",
       "0                                      0.918                         2.4   \n",
       "1                                      0.921                         1.9   \n",
       "2                                      0.934                         5.7   \n",
       "3                                      0.905                         2.6   \n",
       "4                                      0.894                         3.0   \n",
       "\n",
       "   Inequality-adjusted education index  Inequality in income (%)  \\\n",
       "0                                0.894                      10.4   \n",
       "1                                0.921                      17.7   \n",
       "2                                0.840                      15.7   \n",
       "3                                0.891                      14.8   \n",
       "4                                0.896                      14.3   \n",
       "\n",
       "   Inequality-adjusted income index  \\\n",
       "0                             0.882   \n",
       "1                             0.753   \n",
       "2                             0.806   \n",
       "3                             0.787   \n",
       "4                             0.789   \n",
       "\n",
       "   Income inequality (Quintile ratio) 2010-2015  \\\n",
       "0                                           3.8   \n",
       "1                                           6.0   \n",
       "2                                           4.9   \n",
       "3                                           4.6   \n",
       "4                                           4.5   \n",
       "\n",
       "   Income inequality (Palma ratio) 2010-2015  \\\n",
       "0                                        0.9   \n",
       "1                                        1.4   \n",
       "2                                        1.2   \n",
       "3                                        1.1   \n",
       "4                                        1.0   \n",
       "\n",
       "   Income inequality (Gini coefficient) 2010-2015  GDP (BILLIONS)  CODE  \n",
       "0                                            25.9           511.6   NOR  \n",
       "1                                            34.9          1483.0   AUS  \n",
       "2                                            31.6           679.0   CHE  \n",
       "3                                            30.1          3820.0   DEU  \n",
       "4                                            29.1           347.2   DNK  \n",
       "\n",
       "[5 rows x 84 columns]"
      ]
     },
     "execution_count": 93,
     "metadata": {},
     "output_type": "execute_result"
    }
   ],
   "source": [
    "df.head()"
   ]
  },
  {
   "cell_type": "code",
   "execution_count": 113,
   "metadata": {},
   "outputs": [],
   "source": [
    "def map(value):\n",
    "    data=dict(type='choropleth',\n",
    "            colorscale ='sunsetdark',\n",
    "            locations=df['CODE'],\n",
    "            z=df[value],\n",
    "            text=df['COUNTRY'],\n",
    "            marker=dict(line=dict(color='rgb(255,255,255)',width=1)),\n",
    "            colorbar={'title':value})\n",
    "    \n",
    "    layout=dict(title=value+' data of the world',\n",
    "           geo=dict(scope='world',showlakes=True,lakecolor='rgb(85,173,240)',\n",
    "            projection={'type':'hammer'}))\n",
    "    \n",
    "    choromap=go.Figure(data=[data],layout=layout)\n",
    "    \n",
    "    iplot(choromap)\n",
    "    \n",
    "    "
   ]
  },
  {
   "cell_type": "code",
   "execution_count": 114,
   "metadata": {},
   "outputs": [
    {
     "data": {
      "application/vnd.plotly.v1+json": {
       "config": {
        "linkText": "Export to plot.ly",
        "plotlyServerURL": "https://plot.ly",
        "showLink": false
       },
       "data": [
        {
         "colorbar": {
          "title": {
           "text": "HDI"
          }
         },
         "colorscale": [
          [
           0,
           "rgb(252, 222, 156)"
          ],
          [
           0.16666666666666666,
           "rgb(250, 164, 118)"
          ],
          [
           0.3333333333333333,
           "rgb(240, 116, 110)"
          ],
          [
           0.5,
           "rgb(227, 79, 111)"
          ],
          [
           0.6666666666666666,
           "rgb(220, 57, 119)"
          ],
          [
           0.8333333333333334,
           "rgb(185, 37, 122)"
          ],
          [
           1,
           "rgb(124, 29, 111)"
          ]
         ],
         "locations": [
          "NOR",
          "AUS",
          "CHE",
          "DEU",
          "DNK",
          "SGP",
          "NLD",
          "IRL",
          "ISL",
          "CAN",
          "USA",
          null,
          "NZL",
          "SWE",
          "LIE",
          "GBR",
          "JPN",
          null,
          "ISR",
          "LUX",
          "FRA",
          "BEL",
          "FIN",
          "AUT",
          "SVN",
          "ITA",
          "ESP",
          "CZE",
          "GRC",
          null,
          "EST",
          "AND",
          "CYP",
          "MLT",
          "QAT",
          "POL",
          "LTU",
          "CHL",
          "SAU",
          "SVK",
          "PRT",
          "ARE",
          "HUN",
          "LVA",
          "ARG",
          "HRV",
          "BHR",
          "MNE",
          null,
          "ROU",
          "KWT",
          "BLR",
          "OMN",
          "BRB",
          "URY",
          "BGR",
          "KAZ",
          null,
          "MYS",
          "PLW",
          "PAN",
          "ATG",
          "SYC",
          "MUS",
          "TTO",
          "CRI",
          "SRB",
          "CUB",
          null,
          "GEO",
          "TUR",
          null,
          "LKA",
          "KNA",
          "ALB",
          "LBN",
          "MEX",
          "AZE",
          "BRA",
          "GRD",
          "BIH",
          null,
          "DZA",
          "ARM",
          "UKR",
          "JOR",
          "PER",
          "THA",
          "ECU",
          "CHN",
          "FJI",
          "MNG",
          "LCA",
          "JAM",
          "COL",
          "DMA",
          "SUR",
          "TUN",
          "DOM",
          "VCT",
          "TON",
          "LBY",
          "BLZ",
          "WSM",
          "MDV",
          "UZB",
          null,
          "BWA",
          "GAB",
          "PRY",
          "EGY",
          "TKM",
          "IDN",
          null,
          null,
          "PHL",
          "SLV",
          null,
          "ZAF",
          "KGZ",
          "IRQ",
          "CPV",
          "MAR",
          "NIC",
          "GTM",
          "NAM",
          "GUY",
          null,
          "TJK",
          "HND",
          "IND",
          "BTN",
          "TLS",
          "VUT",
          null,
          "GNQ",
          "KIR",
          null,
          "BGD",
          "GHA",
          "ZMB",
          "STP",
          "KHM",
          "NPL",
          null,
          "KEN",
          "PAK",
          "SWZ",
          null,
          "AGO",
          null,
          "NGA",
          "CMR",
          "PNG",
          "ZWE",
          "SLB",
          "MRT",
          "MDG",
          "RWA",
          "COM",
          "LSO",
          "SEN",
          "HTI",
          "UGA",
          "SDN",
          "TGO",
          "BEN",
          "YEM",
          "AFG",
          "MWI",
          null,
          "DJI",
          null,
          "ETH",
          "MLI",
          null,
          "LBR",
          "GNB",
          "ERI",
          "SLE",
          "MOZ",
          "SSD",
          "GIN",
          "BDI",
          "BFA",
          "TCD",
          "NER",
          "CAF",
          null,
          "MHL",
          "MCO",
          null,
          "SMR",
          "SOM",
          "TUV"
         ],
         "marker": {
          "line": {
           "color": "rgb(255,255,255)",
           "width": 1
          }
         },
         "text": [
          "Norway",
          "Australia",
          "Switzerland",
          "Germany",
          "Denmark",
          "Singapore",
          "Netherlands",
          "Ireland",
          "Iceland",
          "Canada",
          "United States",
          "Hong Kong, China (SAR)",
          "New Zealand",
          "Sweden",
          "Liechtenstein",
          "United Kingdom",
          "Japan",
          "Korea (Republic of)",
          "Israel",
          "Luxembourg",
          "France",
          "Belgium",
          "Finland",
          "Austria",
          "Slovenia",
          "Italy",
          "Spain",
          "Czech Republic",
          "Greece",
          "Brunei Darussalam",
          "Estonia",
          "Andorra",
          "Cyprus",
          "Malta",
          "Qatar",
          "Poland",
          "Lithuania",
          "Chile",
          "Saudi Arabia",
          "Slovakia",
          "Portugal",
          "United Arab Emirates",
          "Hungary",
          "Latvia",
          "Argentina",
          "Croatia",
          "Bahrain",
          "Montenegro",
          "Russian Federation",
          "Romania",
          "Kuwait",
          "Belarus",
          "Oman",
          "Barbados",
          "Uruguay",
          "Bulgaria",
          "Kazakhstan",
          "Bahamas",
          "Malaysia",
          "Palau",
          "Panama",
          "Antigua and Barbuda",
          "Seychelles",
          "Mauritius",
          "Trinidad and Tobago",
          "Costa Rica",
          "Serbia",
          "Cuba",
          "Iran (Islamic Republic of)",
          "Georgia",
          "Turkey",
          "Venezuela (Bolivarian Republic of)",
          "Sri Lanka",
          "Saint Kitts and Nevis",
          "Albania",
          "Lebanon",
          "Mexico",
          "Azerbaijan",
          "Brazil",
          "Grenada",
          "Bosnia and Herzegovina",
          "The former Yugoslav Republic of Macedonia",
          "Algeria",
          "Armenia",
          "Ukraine",
          "Jordan",
          "Peru",
          "Thailand",
          "Ecuador",
          "China",
          "Fiji",
          "Mongolia",
          "Saint Lucia",
          "Jamaica",
          "Colombia",
          "Dominica",
          "Suriname",
          "Tunisia",
          "Dominican Republic",
          "Saint Vincent and the Grenadines",
          "Tonga",
          "Libya",
          "Belize",
          "Samoa",
          "Maldives",
          "Uzbekistan",
          "Moldova (Republic of)",
          "Botswana",
          "Gabon",
          "Paraguay",
          "Egypt",
          "Turkmenistan",
          "Indonesia",
          "Palestine, State of",
          "Viet Nam",
          "Philippines",
          "El Salvador",
          "Bolivia (Plurinational State of)",
          "South Africa",
          "Kyrgyzstan",
          "Iraq",
          "Cabo Verde",
          "Morocco",
          "Nicaragua",
          "Guatemala",
          "Namibia",
          "Guyana",
          "Micronesia (Federated States of)",
          "Tajikistan",
          "Honduras",
          "India",
          "Bhutan",
          "Timor-Leste",
          "Vanuatu",
          "Congo",
          "Equatorial Guinea",
          "Kiribati",
          "Lao People's Democratic Republic",
          "Bangladesh",
          "Ghana",
          "Zambia",
          "Sao Tome and Principe",
          "Cambodia",
          "Nepal",
          "Myanmar",
          "Kenya",
          "Pakistan",
          "Swaziland",
          "Syrian Arab Republic",
          "Angola",
          "Tanzania (United Republic of)",
          "Nigeria",
          "Cameroon",
          "Papua New Guinea",
          "Zimbabwe",
          "Solomon Islands",
          "Mauritania",
          "Madagascar",
          "Rwanda",
          "Comoros",
          "Lesotho",
          "Senegal",
          "Haiti",
          "Uganda",
          "Sudan",
          "Togo",
          "Benin",
          "Yemen",
          "Afghanistan",
          "Malawi",
          "Côte d'Ivoire",
          "Djibouti",
          "Gambia",
          "Ethiopia",
          "Mali",
          "Congo (Democratic Republic of the)",
          "Liberia",
          "Guinea-Bissau",
          "Eritrea",
          "Sierra Leone",
          "Mozambique",
          "South Sudan",
          "Guinea",
          "Burundi",
          "Burkina Faso",
          "Chad",
          "Niger",
          "Central African Republic",
          "Korea (Democratic People's Rep. of)",
          "Marshall Islands",
          "Monaco",
          "Nauru",
          "San Marino",
          "Somalia",
          "Tuvalu"
         ],
         "type": "choropleth",
         "z": [
          0.9490000000000001,
          0.9390000000000001,
          0.9390000000000001,
          0.9259999999999999,
          0.925,
          0.925,
          0.924,
          0.9229999999999999,
          0.9209999999999999,
          0.92,
          0.92,
          0.917,
          0.915,
          0.9129999999999999,
          0.912,
          0.909,
          0.903,
          0.9009999999999999,
          0.899,
          0.898,
          0.897,
          0.8959999999999999,
          0.895,
          0.893,
          0.89,
          0.887,
          0.884,
          0.878,
          0.866,
          0.865,
          0.865,
          0.858,
          0.856,
          0.856,
          0.856,
          0.855,
          0.848,
          0.847,
          0.847,
          0.845,
          0.843,
          0.84,
          0.836,
          0.83,
          0.8270000000000001,
          0.8270000000000001,
          0.8240000000000001,
          0.807,
          0.804,
          0.802,
          0.8,
          0.7959999999999999,
          0.7959999999999999,
          0.795,
          0.795,
          0.794,
          0.794,
          0.792,
          0.789,
          0.7879999999999999,
          0.7879999999999999,
          0.7859999999999999,
          0.782,
          0.7809999999999999,
          0.78,
          0.7759999999999999,
          0.7759999999999999,
          0.775,
          0.774,
          0.769,
          0.767,
          0.767,
          0.7659999999999999,
          0.765,
          0.764,
          0.763,
          0.762,
          0.759,
          0.754,
          0.754,
          0.75,
          0.748,
          0.745,
          0.743,
          0.743,
          0.741,
          0.74,
          0.74,
          0.7390000000000001,
          0.738,
          0.736,
          0.735,
          0.735,
          0.73,
          0.727,
          0.726,
          0.725,
          0.725,
          0.722,
          0.722,
          0.721,
          0.716,
          0.706,
          0.7040000000000001,
          0.701,
          0.701,
          0.6990000000000001,
          0.698,
          0.6970000000000001,
          0.693,
          0.691,
          0.691,
          0.6890000000000001,
          0.684,
          0.6829999999999999,
          0.682,
          0.68,
          0.674,
          0.6659999999999999,
          0.664,
          0.649,
          0.648,
          0.647,
          0.645,
          0.64,
          0.64,
          0.638,
          0.638,
          0.627,
          0.625,
          0.624,
          0.607,
          0.605,
          0.597,
          0.5920000000000001,
          0.5920000000000001,
          0.588,
          0.586,
          0.579,
          0.579,
          0.579,
          0.574,
          0.563,
          0.5579999999999999,
          0.556,
          0.555,
          0.55,
          0.541,
          0.536,
          0.5329999999999999,
          0.531,
          0.527,
          0.518,
          0.516,
          0.516,
          0.515,
          0.513,
          0.512,
          0.498,
          0.49700000000000005,
          0.49700000000000005,
          0.494,
          0.493,
          0.493,
          0.49,
          0.48700000000000004,
          0.485,
          0.48200000000000004,
          0.479,
          0.47600000000000003,
          0.474,
          0.473,
          0.452,
          0.44799999999999995,
          0.442,
          0.435,
          0.42700000000000005,
          0.424,
          0.42,
          0.42,
          0.418,
          0.418,
          0.414,
          0.40399999999999997,
          0.402,
          0.396,
          0.353,
          0.35200000000000004,
          null,
          null,
          null,
          null,
          null,
          null,
          null
         ]
        }
       ],
       "layout": {
        "geo": {
         "lakecolor": "rgb(85,173,240)",
         "projection": {
          "type": "hammer"
         },
         "scope": "world",
         "showlakes": true
        },
        "template": {
         "data": {
          "bar": [
           {
            "error_x": {
             "color": "#2a3f5f"
            },
            "error_y": {
             "color": "#2a3f5f"
            },
            "marker": {
             "line": {
              "color": "#E5ECF6",
              "width": 0.5
             },
             "pattern": {
              "fillmode": "overlay",
              "size": 10,
              "solidity": 0.2
             }
            },
            "type": "bar"
           }
          ],
          "barpolar": [
           {
            "marker": {
             "line": {
              "color": "#E5ECF6",
              "width": 0.5
             },
             "pattern": {
              "fillmode": "overlay",
              "size": 10,
              "solidity": 0.2
             }
            },
            "type": "barpolar"
           }
          ],
          "carpet": [
           {
            "aaxis": {
             "endlinecolor": "#2a3f5f",
             "gridcolor": "white",
             "linecolor": "white",
             "minorgridcolor": "white",
             "startlinecolor": "#2a3f5f"
            },
            "baxis": {
             "endlinecolor": "#2a3f5f",
             "gridcolor": "white",
             "linecolor": "white",
             "minorgridcolor": "white",
             "startlinecolor": "#2a3f5f"
            },
            "type": "carpet"
           }
          ],
          "choropleth": [
           {
            "colorbar": {
             "outlinewidth": 0,
             "ticks": ""
            },
            "type": "choropleth"
           }
          ],
          "contour": [
           {
            "colorbar": {
             "outlinewidth": 0,
             "ticks": ""
            },
            "colorscale": [
             [
              0,
              "#0d0887"
             ],
             [
              0.1111111111111111,
              "#46039f"
             ],
             [
              0.2222222222222222,
              "#7201a8"
             ],
             [
              0.3333333333333333,
              "#9c179e"
             ],
             [
              0.4444444444444444,
              "#bd3786"
             ],
             [
              0.5555555555555556,
              "#d8576b"
             ],
             [
              0.6666666666666666,
              "#ed7953"
             ],
             [
              0.7777777777777778,
              "#fb9f3a"
             ],
             [
              0.8888888888888888,
              "#fdca26"
             ],
             [
              1,
              "#f0f921"
             ]
            ],
            "type": "contour"
           }
          ],
          "contourcarpet": [
           {
            "colorbar": {
             "outlinewidth": 0,
             "ticks": ""
            },
            "type": "contourcarpet"
           }
          ],
          "heatmap": [
           {
            "colorbar": {
             "outlinewidth": 0,
             "ticks": ""
            },
            "colorscale": [
             [
              0,
              "#0d0887"
             ],
             [
              0.1111111111111111,
              "#46039f"
             ],
             [
              0.2222222222222222,
              "#7201a8"
             ],
             [
              0.3333333333333333,
              "#9c179e"
             ],
             [
              0.4444444444444444,
              "#bd3786"
             ],
             [
              0.5555555555555556,
              "#d8576b"
             ],
             [
              0.6666666666666666,
              "#ed7953"
             ],
             [
              0.7777777777777778,
              "#fb9f3a"
             ],
             [
              0.8888888888888888,
              "#fdca26"
             ],
             [
              1,
              "#f0f921"
             ]
            ],
            "type": "heatmap"
           }
          ],
          "heatmapgl": [
           {
            "colorbar": {
             "outlinewidth": 0,
             "ticks": ""
            },
            "colorscale": [
             [
              0,
              "#0d0887"
             ],
             [
              0.1111111111111111,
              "#46039f"
             ],
             [
              0.2222222222222222,
              "#7201a8"
             ],
             [
              0.3333333333333333,
              "#9c179e"
             ],
             [
              0.4444444444444444,
              "#bd3786"
             ],
             [
              0.5555555555555556,
              "#d8576b"
             ],
             [
              0.6666666666666666,
              "#ed7953"
             ],
             [
              0.7777777777777778,
              "#fb9f3a"
             ],
             [
              0.8888888888888888,
              "#fdca26"
             ],
             [
              1,
              "#f0f921"
             ]
            ],
            "type": "heatmapgl"
           }
          ],
          "histogram": [
           {
            "marker": {
             "pattern": {
              "fillmode": "overlay",
              "size": 10,
              "solidity": 0.2
             }
            },
            "type": "histogram"
           }
          ],
          "histogram2d": [
           {
            "colorbar": {
             "outlinewidth": 0,
             "ticks": ""
            },
            "colorscale": [
             [
              0,
              "#0d0887"
             ],
             [
              0.1111111111111111,
              "#46039f"
             ],
             [
              0.2222222222222222,
              "#7201a8"
             ],
             [
              0.3333333333333333,
              "#9c179e"
             ],
             [
              0.4444444444444444,
              "#bd3786"
             ],
             [
              0.5555555555555556,
              "#d8576b"
             ],
             [
              0.6666666666666666,
              "#ed7953"
             ],
             [
              0.7777777777777778,
              "#fb9f3a"
             ],
             [
              0.8888888888888888,
              "#fdca26"
             ],
             [
              1,
              "#f0f921"
             ]
            ],
            "type": "histogram2d"
           }
          ],
          "histogram2dcontour": [
           {
            "colorbar": {
             "outlinewidth": 0,
             "ticks": ""
            },
            "colorscale": [
             [
              0,
              "#0d0887"
             ],
             [
              0.1111111111111111,
              "#46039f"
             ],
             [
              0.2222222222222222,
              "#7201a8"
             ],
             [
              0.3333333333333333,
              "#9c179e"
             ],
             [
              0.4444444444444444,
              "#bd3786"
             ],
             [
              0.5555555555555556,
              "#d8576b"
             ],
             [
              0.6666666666666666,
              "#ed7953"
             ],
             [
              0.7777777777777778,
              "#fb9f3a"
             ],
             [
              0.8888888888888888,
              "#fdca26"
             ],
             [
              1,
              "#f0f921"
             ]
            ],
            "type": "histogram2dcontour"
           }
          ],
          "mesh3d": [
           {
            "colorbar": {
             "outlinewidth": 0,
             "ticks": ""
            },
            "type": "mesh3d"
           }
          ],
          "parcoords": [
           {
            "line": {
             "colorbar": {
              "outlinewidth": 0,
              "ticks": ""
             }
            },
            "type": "parcoords"
           }
          ],
          "pie": [
           {
            "automargin": true,
            "type": "pie"
           }
          ],
          "scatter": [
           {
            "marker": {
             "colorbar": {
              "outlinewidth": 0,
              "ticks": ""
             }
            },
            "type": "scatter"
           }
          ],
          "scatter3d": [
           {
            "line": {
             "colorbar": {
              "outlinewidth": 0,
              "ticks": ""
             }
            },
            "marker": {
             "colorbar": {
              "outlinewidth": 0,
              "ticks": ""
             }
            },
            "type": "scatter3d"
           }
          ],
          "scattercarpet": [
           {
            "marker": {
             "colorbar": {
              "outlinewidth": 0,
              "ticks": ""
             }
            },
            "type": "scattercarpet"
           }
          ],
          "scattergeo": [
           {
            "marker": {
             "colorbar": {
              "outlinewidth": 0,
              "ticks": ""
             }
            },
            "type": "scattergeo"
           }
          ],
          "scattergl": [
           {
            "marker": {
             "colorbar": {
              "outlinewidth": 0,
              "ticks": ""
             }
            },
            "type": "scattergl"
           }
          ],
          "scattermapbox": [
           {
            "marker": {
             "colorbar": {
              "outlinewidth": 0,
              "ticks": ""
             }
            },
            "type": "scattermapbox"
           }
          ],
          "scatterpolar": [
           {
            "marker": {
             "colorbar": {
              "outlinewidth": 0,
              "ticks": ""
             }
            },
            "type": "scatterpolar"
           }
          ],
          "scatterpolargl": [
           {
            "marker": {
             "colorbar": {
              "outlinewidth": 0,
              "ticks": ""
             }
            },
            "type": "scatterpolargl"
           }
          ],
          "scatterternary": [
           {
            "marker": {
             "colorbar": {
              "outlinewidth": 0,
              "ticks": ""
             }
            },
            "type": "scatterternary"
           }
          ],
          "surface": [
           {
            "colorbar": {
             "outlinewidth": 0,
             "ticks": ""
            },
            "colorscale": [
             [
              0,
              "#0d0887"
             ],
             [
              0.1111111111111111,
              "#46039f"
             ],
             [
              0.2222222222222222,
              "#7201a8"
             ],
             [
              0.3333333333333333,
              "#9c179e"
             ],
             [
              0.4444444444444444,
              "#bd3786"
             ],
             [
              0.5555555555555556,
              "#d8576b"
             ],
             [
              0.6666666666666666,
              "#ed7953"
             ],
             [
              0.7777777777777778,
              "#fb9f3a"
             ],
             [
              0.8888888888888888,
              "#fdca26"
             ],
             [
              1,
              "#f0f921"
             ]
            ],
            "type": "surface"
           }
          ],
          "table": [
           {
            "cells": {
             "fill": {
              "color": "#EBF0F8"
             },
             "line": {
              "color": "white"
             }
            },
            "header": {
             "fill": {
              "color": "#C8D4E3"
             },
             "line": {
              "color": "white"
             }
            },
            "type": "table"
           }
          ]
         },
         "layout": {
          "annotationdefaults": {
           "arrowcolor": "#2a3f5f",
           "arrowhead": 0,
           "arrowwidth": 1
          },
          "autotypenumbers": "strict",
          "coloraxis": {
           "colorbar": {
            "outlinewidth": 0,
            "ticks": ""
           }
          },
          "colorscale": {
           "diverging": [
            [
             0,
             "#8e0152"
            ],
            [
             0.1,
             "#c51b7d"
            ],
            [
             0.2,
             "#de77ae"
            ],
            [
             0.3,
             "#f1b6da"
            ],
            [
             0.4,
             "#fde0ef"
            ],
            [
             0.5,
             "#f7f7f7"
            ],
            [
             0.6,
             "#e6f5d0"
            ],
            [
             0.7,
             "#b8e186"
            ],
            [
             0.8,
             "#7fbc41"
            ],
            [
             0.9,
             "#4d9221"
            ],
            [
             1,
             "#276419"
            ]
           ],
           "sequential": [
            [
             0,
             "#0d0887"
            ],
            [
             0.1111111111111111,
             "#46039f"
            ],
            [
             0.2222222222222222,
             "#7201a8"
            ],
            [
             0.3333333333333333,
             "#9c179e"
            ],
            [
             0.4444444444444444,
             "#bd3786"
            ],
            [
             0.5555555555555556,
             "#d8576b"
            ],
            [
             0.6666666666666666,
             "#ed7953"
            ],
            [
             0.7777777777777778,
             "#fb9f3a"
            ],
            [
             0.8888888888888888,
             "#fdca26"
            ],
            [
             1,
             "#f0f921"
            ]
           ],
           "sequentialminus": [
            [
             0,
             "#0d0887"
            ],
            [
             0.1111111111111111,
             "#46039f"
            ],
            [
             0.2222222222222222,
             "#7201a8"
            ],
            [
             0.3333333333333333,
             "#9c179e"
            ],
            [
             0.4444444444444444,
             "#bd3786"
            ],
            [
             0.5555555555555556,
             "#d8576b"
            ],
            [
             0.6666666666666666,
             "#ed7953"
            ],
            [
             0.7777777777777778,
             "#fb9f3a"
            ],
            [
             0.8888888888888888,
             "#fdca26"
            ],
            [
             1,
             "#f0f921"
            ]
           ]
          },
          "colorway": [
           "#636efa",
           "#EF553B",
           "#00cc96",
           "#ab63fa",
           "#FFA15A",
           "#19d3f3",
           "#FF6692",
           "#B6E880",
           "#FF97FF",
           "#FECB52"
          ],
          "font": {
           "color": "#2a3f5f"
          },
          "geo": {
           "bgcolor": "white",
           "lakecolor": "white",
           "landcolor": "#E5ECF6",
           "showlakes": true,
           "showland": true,
           "subunitcolor": "white"
          },
          "hoverlabel": {
           "align": "left"
          },
          "hovermode": "closest",
          "mapbox": {
           "style": "light"
          },
          "paper_bgcolor": "white",
          "plot_bgcolor": "#E5ECF6",
          "polar": {
           "angularaxis": {
            "gridcolor": "white",
            "linecolor": "white",
            "ticks": ""
           },
           "bgcolor": "#E5ECF6",
           "radialaxis": {
            "gridcolor": "white",
            "linecolor": "white",
            "ticks": ""
           }
          },
          "scene": {
           "xaxis": {
            "backgroundcolor": "#E5ECF6",
            "gridcolor": "white",
            "gridwidth": 2,
            "linecolor": "white",
            "showbackground": true,
            "ticks": "",
            "zerolinecolor": "white"
           },
           "yaxis": {
            "backgroundcolor": "#E5ECF6",
            "gridcolor": "white",
            "gridwidth": 2,
            "linecolor": "white",
            "showbackground": true,
            "ticks": "",
            "zerolinecolor": "white"
           },
           "zaxis": {
            "backgroundcolor": "#E5ECF6",
            "gridcolor": "white",
            "gridwidth": 2,
            "linecolor": "white",
            "showbackground": true,
            "ticks": "",
            "zerolinecolor": "white"
           }
          },
          "shapedefaults": {
           "line": {
            "color": "#2a3f5f"
           }
          },
          "ternary": {
           "aaxis": {
            "gridcolor": "white",
            "linecolor": "white",
            "ticks": ""
           },
           "baxis": {
            "gridcolor": "white",
            "linecolor": "white",
            "ticks": ""
           },
           "bgcolor": "#E5ECF6",
           "caxis": {
            "gridcolor": "white",
            "linecolor": "white",
            "ticks": ""
           }
          },
          "title": {
           "x": 0.05
          },
          "xaxis": {
           "automargin": true,
           "gridcolor": "white",
           "linecolor": "white",
           "ticks": "",
           "title": {
            "standoff": 15
           },
           "zerolinecolor": "white",
           "zerolinewidth": 2
          },
          "yaxis": {
           "automargin": true,
           "gridcolor": "white",
           "linecolor": "white",
           "ticks": "",
           "title": {
            "standoff": 15
           },
           "zerolinecolor": "white",
           "zerolinewidth": 2
          }
         }
        },
        "title": {
         "text": "HDI data of the world"
        }
       }
      },
      "text/html": [
       "<div>                            <div id=\"7e87ec5b-a2c6-4bfd-9965-339f26a5d4c4\" class=\"plotly-graph-div\" style=\"height:525px; width:100%;\"></div>            <script type=\"text/javascript\">                require([\"plotly\"], function(Plotly) {                    window.PLOTLYENV=window.PLOTLYENV || {};                                    if (document.getElementById(\"7e87ec5b-a2c6-4bfd-9965-339f26a5d4c4\")) {                    Plotly.newPlot(                        \"7e87ec5b-a2c6-4bfd-9965-339f26a5d4c4\",                        [{\"colorbar\":{\"title\":{\"text\":\"HDI\"}},\"colorscale\":[[0.0,\"rgb(252, 222, 156)\"],[0.16666666666666666,\"rgb(250, 164, 118)\"],[0.3333333333333333,\"rgb(240, 116, 110)\"],[0.5,\"rgb(227, 79, 111)\"],[0.6666666666666666,\"rgb(220, 57, 119)\"],[0.8333333333333334,\"rgb(185, 37, 122)\"],[1.0,\"rgb(124, 29, 111)\"]],\"locations\":[\"NOR\",\"AUS\",\"CHE\",\"DEU\",\"DNK\",\"SGP\",\"NLD\",\"IRL\",\"ISL\",\"CAN\",\"USA\",null,\"NZL\",\"SWE\",\"LIE\",\"GBR\",\"JPN\",null,\"ISR\",\"LUX\",\"FRA\",\"BEL\",\"FIN\",\"AUT\",\"SVN\",\"ITA\",\"ESP\",\"CZE\",\"GRC\",null,\"EST\",\"AND\",\"CYP\",\"MLT\",\"QAT\",\"POL\",\"LTU\",\"CHL\",\"SAU\",\"SVK\",\"PRT\",\"ARE\",\"HUN\",\"LVA\",\"ARG\",\"HRV\",\"BHR\",\"MNE\",null,\"ROU\",\"KWT\",\"BLR\",\"OMN\",\"BRB\",\"URY\",\"BGR\",\"KAZ\",null,\"MYS\",\"PLW\",\"PAN\",\"ATG\",\"SYC\",\"MUS\",\"TTO\",\"CRI\",\"SRB\",\"CUB\",null,\"GEO\",\"TUR\",null,\"LKA\",\"KNA\",\"ALB\",\"LBN\",\"MEX\",\"AZE\",\"BRA\",\"GRD\",\"BIH\",null,\"DZA\",\"ARM\",\"UKR\",\"JOR\",\"PER\",\"THA\",\"ECU\",\"CHN\",\"FJI\",\"MNG\",\"LCA\",\"JAM\",\"COL\",\"DMA\",\"SUR\",\"TUN\",\"DOM\",\"VCT\",\"TON\",\"LBY\",\"BLZ\",\"WSM\",\"MDV\",\"UZB\",null,\"BWA\",\"GAB\",\"PRY\",\"EGY\",\"TKM\",\"IDN\",null,null,\"PHL\",\"SLV\",null,\"ZAF\",\"KGZ\",\"IRQ\",\"CPV\",\"MAR\",\"NIC\",\"GTM\",\"NAM\",\"GUY\",null,\"TJK\",\"HND\",\"IND\",\"BTN\",\"TLS\",\"VUT\",null,\"GNQ\",\"KIR\",null,\"BGD\",\"GHA\",\"ZMB\",\"STP\",\"KHM\",\"NPL\",null,\"KEN\",\"PAK\",\"SWZ\",null,\"AGO\",null,\"NGA\",\"CMR\",\"PNG\",\"ZWE\",\"SLB\",\"MRT\",\"MDG\",\"RWA\",\"COM\",\"LSO\",\"SEN\",\"HTI\",\"UGA\",\"SDN\",\"TGO\",\"BEN\",\"YEM\",\"AFG\",\"MWI\",null,\"DJI\",null,\"ETH\",\"MLI\",null,\"LBR\",\"GNB\",\"ERI\",\"SLE\",\"MOZ\",\"SSD\",\"GIN\",\"BDI\",\"BFA\",\"TCD\",\"NER\",\"CAF\",null,\"MHL\",\"MCO\",null,\"SMR\",\"SOM\",\"TUV\"],\"marker\":{\"line\":{\"color\":\"rgb(255,255,255)\",\"width\":1}},\"text\":[\"Norway\",\"Australia\",\"Switzerland\",\"Germany\",\"Denmark\",\"Singapore\",\"Netherlands\",\"Ireland\",\"Iceland\",\"Canada\",\"United States\",\"Hong Kong, China (SAR)\",\"New Zealand\",\"Sweden\",\"Liechtenstein\",\"United Kingdom\",\"Japan\",\"Korea (Republic of)\",\"Israel\",\"Luxembourg\",\"France\",\"Belgium\",\"Finland\",\"Austria\",\"Slovenia\",\"Italy\",\"Spain\",\"Czech Republic\",\"Greece\",\"Brunei Darussalam\",\"Estonia\",\"Andorra\",\"Cyprus\",\"Malta\",\"Qatar\",\"Poland\",\"Lithuania\",\"Chile\",\"Saudi Arabia\",\"Slovakia\",\"Portugal\",\"United Arab Emirates\",\"Hungary\",\"Latvia\",\"Argentina\",\"Croatia\",\"Bahrain\",\"Montenegro\",\"Russian Federation\",\"Romania\",\"Kuwait\",\"Belarus\",\"Oman\",\"Barbados\",\"Uruguay\",\"Bulgaria\",\"Kazakhstan\",\"Bahamas\",\"Malaysia\",\"Palau\",\"Panama\",\"Antigua and Barbuda\",\"Seychelles\",\"Mauritius\",\"Trinidad and Tobago\",\"Costa Rica\",\"Serbia\",\"Cuba\",\"Iran (Islamic Republic of)\",\"Georgia\",\"Turkey\",\"Venezuela (Bolivarian Republic of)\",\"Sri Lanka\",\"Saint Kitts and Nevis\",\"Albania\",\"Lebanon\",\"Mexico\",\"Azerbaijan\",\"Brazil\",\"Grenada\",\"Bosnia and Herzegovina\",\"The former Yugoslav Republic of Macedonia\",\"Algeria\",\"Armenia\",\"Ukraine\",\"Jordan\",\"Peru\",\"Thailand\",\"Ecuador\",\"China\",\"Fiji\",\"Mongolia\",\"Saint Lucia\",\"Jamaica\",\"Colombia\",\"Dominica\",\"Suriname\",\"Tunisia\",\"Dominican Republic\",\"Saint Vincent and the Grenadines\",\"Tonga\",\"Libya\",\"Belize\",\"Samoa\",\"Maldives\",\"Uzbekistan\",\"Moldova (Republic of)\",\"Botswana\",\"Gabon\",\"Paraguay\",\"Egypt\",\"Turkmenistan\",\"Indonesia\",\"Palestine, State of\",\"Viet Nam\",\"Philippines\",\"El Salvador\",\"Bolivia (Plurinational State of)\",\"South Africa\",\"Kyrgyzstan\",\"Iraq\",\"Cabo Verde\",\"Morocco\",\"Nicaragua\",\"Guatemala\",\"Namibia\",\"Guyana\",\"Micronesia (Federated States of)\",\"Tajikistan\",\"Honduras\",\"India\",\"Bhutan\",\"Timor-Leste\",\"Vanuatu\",\"Congo\",\"Equatorial Guinea\",\"Kiribati\",\"Lao People's Democratic Republic\",\"Bangladesh\",\"Ghana\",\"Zambia\",\"Sao Tome and Principe\",\"Cambodia\",\"Nepal\",\"Myanmar\",\"Kenya\",\"Pakistan\",\"Swaziland\",\"Syrian Arab Republic\",\"Angola\",\"Tanzania (United Republic of)\",\"Nigeria\",\"Cameroon\",\"Papua New Guinea\",\"Zimbabwe\",\"Solomon Islands\",\"Mauritania\",\"Madagascar\",\"Rwanda\",\"Comoros\",\"Lesotho\",\"Senegal\",\"Haiti\",\"Uganda\",\"Sudan\",\"Togo\",\"Benin\",\"Yemen\",\"Afghanistan\",\"Malawi\",\"C\\u00f4te d'Ivoire\",\"Djibouti\",\"Gambia\",\"Ethiopia\",\"Mali\",\"Congo (Democratic Republic of the)\",\"Liberia\",\"Guinea-Bissau\",\"Eritrea\",\"Sierra Leone\",\"Mozambique\",\"South Sudan\",\"Guinea\",\"Burundi\",\"Burkina Faso\",\"Chad\",\"Niger\",\"Central African Republic\",\"Korea (Democratic People's Rep. of)\",\"Marshall Islands\",\"Monaco\",\"Nauru\",\"San Marino\",\"Somalia\",\"Tuvalu\"],\"type\":\"choropleth\",\"z\":[0.9490000000000001,0.9390000000000001,0.9390000000000001,0.9259999999999999,0.925,0.925,0.924,0.9229999999999999,0.9209999999999999,0.92,0.92,0.917,0.915,0.9129999999999999,0.912,0.909,0.903,0.9009999999999999,0.899,0.898,0.897,0.8959999999999999,0.895,0.893,0.89,0.887,0.884,0.878,0.866,0.865,0.865,0.858,0.856,0.856,0.856,0.855,0.848,0.847,0.847,0.845,0.843,0.84,0.836,0.83,0.8270000000000001,0.8270000000000001,0.8240000000000001,0.807,0.804,0.802,0.8,0.7959999999999999,0.7959999999999999,0.795,0.795,0.794,0.794,0.792,0.789,0.7879999999999999,0.7879999999999999,0.7859999999999999,0.782,0.7809999999999999,0.78,0.7759999999999999,0.7759999999999999,0.775,0.774,0.769,0.767,0.767,0.7659999999999999,0.765,0.764,0.763,0.762,0.759,0.754,0.754,0.75,0.748,0.745,0.743,0.743,0.741,0.74,0.74,0.7390000000000001,0.738,0.736,0.735,0.735,0.73,0.727,0.726,0.725,0.725,0.722,0.722,0.721,0.716,0.706,0.7040000000000001,0.701,0.701,0.6990000000000001,0.698,0.6970000000000001,0.693,0.691,0.691,0.6890000000000001,0.684,0.6829999999999999,0.682,0.68,0.674,0.6659999999999999,0.664,0.649,0.648,0.647,0.645,0.64,0.64,0.638,0.638,0.627,0.625,0.624,0.607,0.605,0.597,0.5920000000000001,0.5920000000000001,0.588,0.586,0.579,0.579,0.579,0.574,0.563,0.5579999999999999,0.556,0.555,0.55,0.541,0.536,0.5329999999999999,0.531,0.527,0.518,0.516,0.516,0.515,0.513,0.512,0.498,0.49700000000000005,0.49700000000000005,0.494,0.493,0.493,0.49,0.48700000000000004,0.485,0.48200000000000004,0.479,0.47600000000000003,0.474,0.473,0.452,0.44799999999999995,0.442,0.435,0.42700000000000005,0.424,0.42,0.42,0.418,0.418,0.414,0.40399999999999997,0.402,0.396,0.353,0.35200000000000004,null,null,null,null,null,null,null]}],                        {\"geo\":{\"lakecolor\":\"rgb(85,173,240)\",\"projection\":{\"type\":\"hammer\"},\"scope\":\"world\",\"showlakes\":true},\"template\":{\"data\":{\"bar\":[{\"error_x\":{\"color\":\"#2a3f5f\"},\"error_y\":{\"color\":\"#2a3f5f\"},\"marker\":{\"line\":{\"color\":\"#E5ECF6\",\"width\":0.5},\"pattern\":{\"fillmode\":\"overlay\",\"size\":10,\"solidity\":0.2}},\"type\":\"bar\"}],\"barpolar\":[{\"marker\":{\"line\":{\"color\":\"#E5ECF6\",\"width\":0.5},\"pattern\":{\"fillmode\":\"overlay\",\"size\":10,\"solidity\":0.2}},\"type\":\"barpolar\"}],\"carpet\":[{\"aaxis\":{\"endlinecolor\":\"#2a3f5f\",\"gridcolor\":\"white\",\"linecolor\":\"white\",\"minorgridcolor\":\"white\",\"startlinecolor\":\"#2a3f5f\"},\"baxis\":{\"endlinecolor\":\"#2a3f5f\",\"gridcolor\":\"white\",\"linecolor\":\"white\",\"minorgridcolor\":\"white\",\"startlinecolor\":\"#2a3f5f\"},\"type\":\"carpet\"}],\"choropleth\":[{\"colorbar\":{\"outlinewidth\":0,\"ticks\":\"\"},\"type\":\"choropleth\"}],\"contour\":[{\"colorbar\":{\"outlinewidth\":0,\"ticks\":\"\"},\"colorscale\":[[0.0,\"#0d0887\"],[0.1111111111111111,\"#46039f\"],[0.2222222222222222,\"#7201a8\"],[0.3333333333333333,\"#9c179e\"],[0.4444444444444444,\"#bd3786\"],[0.5555555555555556,\"#d8576b\"],[0.6666666666666666,\"#ed7953\"],[0.7777777777777778,\"#fb9f3a\"],[0.8888888888888888,\"#fdca26\"],[1.0,\"#f0f921\"]],\"type\":\"contour\"}],\"contourcarpet\":[{\"colorbar\":{\"outlinewidth\":0,\"ticks\":\"\"},\"type\":\"contourcarpet\"}],\"heatmap\":[{\"colorbar\":{\"outlinewidth\":0,\"ticks\":\"\"},\"colorscale\":[[0.0,\"#0d0887\"],[0.1111111111111111,\"#46039f\"],[0.2222222222222222,\"#7201a8\"],[0.3333333333333333,\"#9c179e\"],[0.4444444444444444,\"#bd3786\"],[0.5555555555555556,\"#d8576b\"],[0.6666666666666666,\"#ed7953\"],[0.7777777777777778,\"#fb9f3a\"],[0.8888888888888888,\"#fdca26\"],[1.0,\"#f0f921\"]],\"type\":\"heatmap\"}],\"heatmapgl\":[{\"colorbar\":{\"outlinewidth\":0,\"ticks\":\"\"},\"colorscale\":[[0.0,\"#0d0887\"],[0.1111111111111111,\"#46039f\"],[0.2222222222222222,\"#7201a8\"],[0.3333333333333333,\"#9c179e\"],[0.4444444444444444,\"#bd3786\"],[0.5555555555555556,\"#d8576b\"],[0.6666666666666666,\"#ed7953\"],[0.7777777777777778,\"#fb9f3a\"],[0.8888888888888888,\"#fdca26\"],[1.0,\"#f0f921\"]],\"type\":\"heatmapgl\"}],\"histogram\":[{\"marker\":{\"pattern\":{\"fillmode\":\"overlay\",\"size\":10,\"solidity\":0.2}},\"type\":\"histogram\"}],\"histogram2d\":[{\"colorbar\":{\"outlinewidth\":0,\"ticks\":\"\"},\"colorscale\":[[0.0,\"#0d0887\"],[0.1111111111111111,\"#46039f\"],[0.2222222222222222,\"#7201a8\"],[0.3333333333333333,\"#9c179e\"],[0.4444444444444444,\"#bd3786\"],[0.5555555555555556,\"#d8576b\"],[0.6666666666666666,\"#ed7953\"],[0.7777777777777778,\"#fb9f3a\"],[0.8888888888888888,\"#fdca26\"],[1.0,\"#f0f921\"]],\"type\":\"histogram2d\"}],\"histogram2dcontour\":[{\"colorbar\":{\"outlinewidth\":0,\"ticks\":\"\"},\"colorscale\":[[0.0,\"#0d0887\"],[0.1111111111111111,\"#46039f\"],[0.2222222222222222,\"#7201a8\"],[0.3333333333333333,\"#9c179e\"],[0.4444444444444444,\"#bd3786\"],[0.5555555555555556,\"#d8576b\"],[0.6666666666666666,\"#ed7953\"],[0.7777777777777778,\"#fb9f3a\"],[0.8888888888888888,\"#fdca26\"],[1.0,\"#f0f921\"]],\"type\":\"histogram2dcontour\"}],\"mesh3d\":[{\"colorbar\":{\"outlinewidth\":0,\"ticks\":\"\"},\"type\":\"mesh3d\"}],\"parcoords\":[{\"line\":{\"colorbar\":{\"outlinewidth\":0,\"ticks\":\"\"}},\"type\":\"parcoords\"}],\"pie\":[{\"automargin\":true,\"type\":\"pie\"}],\"scatter\":[{\"marker\":{\"colorbar\":{\"outlinewidth\":0,\"ticks\":\"\"}},\"type\":\"scatter\"}],\"scatter3d\":[{\"line\":{\"colorbar\":{\"outlinewidth\":0,\"ticks\":\"\"}},\"marker\":{\"colorbar\":{\"outlinewidth\":0,\"ticks\":\"\"}},\"type\":\"scatter3d\"}],\"scattercarpet\":[{\"marker\":{\"colorbar\":{\"outlinewidth\":0,\"ticks\":\"\"}},\"type\":\"scattercarpet\"}],\"scattergeo\":[{\"marker\":{\"colorbar\":{\"outlinewidth\":0,\"ticks\":\"\"}},\"type\":\"scattergeo\"}],\"scattergl\":[{\"marker\":{\"colorbar\":{\"outlinewidth\":0,\"ticks\":\"\"}},\"type\":\"scattergl\"}],\"scattermapbox\":[{\"marker\":{\"colorbar\":{\"outlinewidth\":0,\"ticks\":\"\"}},\"type\":\"scattermapbox\"}],\"scatterpolar\":[{\"marker\":{\"colorbar\":{\"outlinewidth\":0,\"ticks\":\"\"}},\"type\":\"scatterpolar\"}],\"scatterpolargl\":[{\"marker\":{\"colorbar\":{\"outlinewidth\":0,\"ticks\":\"\"}},\"type\":\"scatterpolargl\"}],\"scatterternary\":[{\"marker\":{\"colorbar\":{\"outlinewidth\":0,\"ticks\":\"\"}},\"type\":\"scatterternary\"}],\"surface\":[{\"colorbar\":{\"outlinewidth\":0,\"ticks\":\"\"},\"colorscale\":[[0.0,\"#0d0887\"],[0.1111111111111111,\"#46039f\"],[0.2222222222222222,\"#7201a8\"],[0.3333333333333333,\"#9c179e\"],[0.4444444444444444,\"#bd3786\"],[0.5555555555555556,\"#d8576b\"],[0.6666666666666666,\"#ed7953\"],[0.7777777777777778,\"#fb9f3a\"],[0.8888888888888888,\"#fdca26\"],[1.0,\"#f0f921\"]],\"type\":\"surface\"}],\"table\":[{\"cells\":{\"fill\":{\"color\":\"#EBF0F8\"},\"line\":{\"color\":\"white\"}},\"header\":{\"fill\":{\"color\":\"#C8D4E3\"},\"line\":{\"color\":\"white\"}},\"type\":\"table\"}]},\"layout\":{\"annotationdefaults\":{\"arrowcolor\":\"#2a3f5f\",\"arrowhead\":0,\"arrowwidth\":1},\"autotypenumbers\":\"strict\",\"coloraxis\":{\"colorbar\":{\"outlinewidth\":0,\"ticks\":\"\"}},\"colorscale\":{\"diverging\":[[0,\"#8e0152\"],[0.1,\"#c51b7d\"],[0.2,\"#de77ae\"],[0.3,\"#f1b6da\"],[0.4,\"#fde0ef\"],[0.5,\"#f7f7f7\"],[0.6,\"#e6f5d0\"],[0.7,\"#b8e186\"],[0.8,\"#7fbc41\"],[0.9,\"#4d9221\"],[1,\"#276419\"]],\"sequential\":[[0.0,\"#0d0887\"],[0.1111111111111111,\"#46039f\"],[0.2222222222222222,\"#7201a8\"],[0.3333333333333333,\"#9c179e\"],[0.4444444444444444,\"#bd3786\"],[0.5555555555555556,\"#d8576b\"],[0.6666666666666666,\"#ed7953\"],[0.7777777777777778,\"#fb9f3a\"],[0.8888888888888888,\"#fdca26\"],[1.0,\"#f0f921\"]],\"sequentialminus\":[[0.0,\"#0d0887\"],[0.1111111111111111,\"#46039f\"],[0.2222222222222222,\"#7201a8\"],[0.3333333333333333,\"#9c179e\"],[0.4444444444444444,\"#bd3786\"],[0.5555555555555556,\"#d8576b\"],[0.6666666666666666,\"#ed7953\"],[0.7777777777777778,\"#fb9f3a\"],[0.8888888888888888,\"#fdca26\"],[1.0,\"#f0f921\"]]},\"colorway\":[\"#636efa\",\"#EF553B\",\"#00cc96\",\"#ab63fa\",\"#FFA15A\",\"#19d3f3\",\"#FF6692\",\"#B6E880\",\"#FF97FF\",\"#FECB52\"],\"font\":{\"color\":\"#2a3f5f\"},\"geo\":{\"bgcolor\":\"white\",\"lakecolor\":\"white\",\"landcolor\":\"#E5ECF6\",\"showlakes\":true,\"showland\":true,\"subunitcolor\":\"white\"},\"hoverlabel\":{\"align\":\"left\"},\"hovermode\":\"closest\",\"mapbox\":{\"style\":\"light\"},\"paper_bgcolor\":\"white\",\"plot_bgcolor\":\"#E5ECF6\",\"polar\":{\"angularaxis\":{\"gridcolor\":\"white\",\"linecolor\":\"white\",\"ticks\":\"\"},\"bgcolor\":\"#E5ECF6\",\"radialaxis\":{\"gridcolor\":\"white\",\"linecolor\":\"white\",\"ticks\":\"\"}},\"scene\":{\"xaxis\":{\"backgroundcolor\":\"#E5ECF6\",\"gridcolor\":\"white\",\"gridwidth\":2,\"linecolor\":\"white\",\"showbackground\":true,\"ticks\":\"\",\"zerolinecolor\":\"white\"},\"yaxis\":{\"backgroundcolor\":\"#E5ECF6\",\"gridcolor\":\"white\",\"gridwidth\":2,\"linecolor\":\"white\",\"showbackground\":true,\"ticks\":\"\",\"zerolinecolor\":\"white\"},\"zaxis\":{\"backgroundcolor\":\"#E5ECF6\",\"gridcolor\":\"white\",\"gridwidth\":2,\"linecolor\":\"white\",\"showbackground\":true,\"ticks\":\"\",\"zerolinecolor\":\"white\"}},\"shapedefaults\":{\"line\":{\"color\":\"#2a3f5f\"}},\"ternary\":{\"aaxis\":{\"gridcolor\":\"white\",\"linecolor\":\"white\",\"ticks\":\"\"},\"baxis\":{\"gridcolor\":\"white\",\"linecolor\":\"white\",\"ticks\":\"\"},\"bgcolor\":\"#E5ECF6\",\"caxis\":{\"gridcolor\":\"white\",\"linecolor\":\"white\",\"ticks\":\"\"}},\"title\":{\"x\":0.05},\"xaxis\":{\"automargin\":true,\"gridcolor\":\"white\",\"linecolor\":\"white\",\"ticks\":\"\",\"title\":{\"standoff\":15},\"zerolinecolor\":\"white\",\"zerolinewidth\":2},\"yaxis\":{\"automargin\":true,\"gridcolor\":\"white\",\"linecolor\":\"white\",\"ticks\":\"\",\"title\":{\"standoff\":15},\"zerolinecolor\":\"white\",\"zerolinewidth\":2}}},\"title\":{\"text\":\"HDI data of the world\"}},                        {\"responsive\": true}                    ).then(function(){\n",
       "                            \n",
       "var gd = document.getElementById('7e87ec5b-a2c6-4bfd-9965-339f26a5d4c4');\n",
       "var x = new MutationObserver(function (mutations, observer) {{\n",
       "        var display = window.getComputedStyle(gd).display;\n",
       "        if (!display || display === 'none') {{\n",
       "            console.log([gd, 'removed!']);\n",
       "            Plotly.purge(gd);\n",
       "            observer.disconnect();\n",
       "        }}\n",
       "}});\n",
       "\n",
       "// Listen for the removal of the full notebook cells\n",
       "var notebookContainer = gd.closest('#notebook-container');\n",
       "if (notebookContainer) {{\n",
       "    x.observe(notebookContainer, {childList: true});\n",
       "}}\n",
       "\n",
       "// Listen for the clearing of the current output cell\n",
       "var outputEl = gd.closest('.output');\n",
       "if (outputEl) {{\n",
       "    x.observe(outputEl, {childList: true});\n",
       "}}\n",
       "\n",
       "                        })                };                });            </script>        </div>"
      ]
     },
     "metadata": {},
     "output_type": "display_data"
    }
   ],
   "source": [
    "map('HDI')"
   ]
  },
  {
   "cell_type": "code",
   "execution_count": 116,
   "metadata": {},
   "outputs": [
    {
     "data": {
      "application/vnd.plotly.v1+json": {
       "config": {
        "linkText": "Export to plot.ly",
        "plotlyServerURL": "https://plot.ly",
        "showLink": false
       },
       "data": [
        {
         "colorbar": {
          "title": {
           "text": "Gross national income (GNI) per capita"
          }
         },
         "colorscale": [
          [
           0,
           "rgb(252, 222, 156)"
          ],
          [
           0.16666666666666666,
           "rgb(250, 164, 118)"
          ],
          [
           0.3333333333333333,
           "rgb(240, 116, 110)"
          ],
          [
           0.5,
           "rgb(227, 79, 111)"
          ],
          [
           0.6666666666666666,
           "rgb(220, 57, 119)"
          ],
          [
           0.8333333333333334,
           "rgb(185, 37, 122)"
          ],
          [
           1,
           "rgb(124, 29, 111)"
          ]
         ],
         "locations": [
          "NOR",
          "AUS",
          "CHE",
          "DEU",
          "DNK",
          "SGP",
          "NLD",
          "IRL",
          "ISL",
          "CAN",
          "USA",
          null,
          "NZL",
          "SWE",
          "LIE",
          "GBR",
          "JPN",
          null,
          "ISR",
          "LUX",
          "FRA",
          "BEL",
          "FIN",
          "AUT",
          "SVN",
          "ITA",
          "ESP",
          "CZE",
          "GRC",
          null,
          "EST",
          "AND",
          "CYP",
          "MLT",
          "QAT",
          "POL",
          "LTU",
          "CHL",
          "SAU",
          "SVK",
          "PRT",
          "ARE",
          "HUN",
          "LVA",
          "ARG",
          "HRV",
          "BHR",
          "MNE",
          null,
          "ROU",
          "KWT",
          "BLR",
          "OMN",
          "BRB",
          "URY",
          "BGR",
          "KAZ",
          null,
          "MYS",
          "PLW",
          "PAN",
          "ATG",
          "SYC",
          "MUS",
          "TTO",
          "CRI",
          "SRB",
          "CUB",
          null,
          "GEO",
          "TUR",
          null,
          "LKA",
          "KNA",
          "ALB",
          "LBN",
          "MEX",
          "AZE",
          "BRA",
          "GRD",
          "BIH",
          null,
          "DZA",
          "ARM",
          "UKR",
          "JOR",
          "PER",
          "THA",
          "ECU",
          "CHN",
          "FJI",
          "MNG",
          "LCA",
          "JAM",
          "COL",
          "DMA",
          "SUR",
          "TUN",
          "DOM",
          "VCT",
          "TON",
          "LBY",
          "BLZ",
          "WSM",
          "MDV",
          "UZB",
          null,
          "BWA",
          "GAB",
          "PRY",
          "EGY",
          "TKM",
          "IDN",
          null,
          null,
          "PHL",
          "SLV",
          null,
          "ZAF",
          "KGZ",
          "IRQ",
          "CPV",
          "MAR",
          "NIC",
          "GTM",
          "NAM",
          "GUY",
          null,
          "TJK",
          "HND",
          "IND",
          "BTN",
          "TLS",
          "VUT",
          null,
          "GNQ",
          "KIR",
          null,
          "BGD",
          "GHA",
          "ZMB",
          "STP",
          "KHM",
          "NPL",
          null,
          "KEN",
          "PAK",
          "SWZ",
          null,
          "AGO",
          null,
          "NGA",
          "CMR",
          "PNG",
          "ZWE",
          "SLB",
          "MRT",
          "MDG",
          "RWA",
          "COM",
          "LSO",
          "SEN",
          "HTI",
          "UGA",
          "SDN",
          "TGO",
          "BEN",
          "YEM",
          "AFG",
          "MWI",
          null,
          "DJI",
          null,
          "ETH",
          "MLI",
          null,
          "LBR",
          "GNB",
          "ERI",
          "SLE",
          "MOZ",
          "SSD",
          "GIN",
          "BDI",
          "BFA",
          "TCD",
          "NER",
          "CAF",
          null,
          "MHL",
          "MCO",
          null,
          "SMR",
          "SOM",
          "TUV"
         ],
         "marker": {
          "line": {
           "color": "rgb(255,255,255)",
           "width": 1
          }
         },
         "text": [
          "Norway",
          "Australia",
          "Switzerland",
          "Germany",
          "Denmark",
          "Singapore",
          "Netherlands",
          "Ireland",
          "Iceland",
          "Canada",
          "United States",
          "Hong Kong, China (SAR)",
          "New Zealand",
          "Sweden",
          "Liechtenstein",
          "United Kingdom",
          "Japan",
          "Korea (Republic of)",
          "Israel",
          "Luxembourg",
          "France",
          "Belgium",
          "Finland",
          "Austria",
          "Slovenia",
          "Italy",
          "Spain",
          "Czech Republic",
          "Greece",
          "Brunei Darussalam",
          "Estonia",
          "Andorra",
          "Cyprus",
          "Malta",
          "Qatar",
          "Poland",
          "Lithuania",
          "Chile",
          "Saudi Arabia",
          "Slovakia",
          "Portugal",
          "United Arab Emirates",
          "Hungary",
          "Latvia",
          "Argentina",
          "Croatia",
          "Bahrain",
          "Montenegro",
          "Russian Federation",
          "Romania",
          "Kuwait",
          "Belarus",
          "Oman",
          "Barbados",
          "Uruguay",
          "Bulgaria",
          "Kazakhstan",
          "Bahamas",
          "Malaysia",
          "Palau",
          "Panama",
          "Antigua and Barbuda",
          "Seychelles",
          "Mauritius",
          "Trinidad and Tobago",
          "Costa Rica",
          "Serbia",
          "Cuba",
          "Iran (Islamic Republic of)",
          "Georgia",
          "Turkey",
          "Venezuela (Bolivarian Republic of)",
          "Sri Lanka",
          "Saint Kitts and Nevis",
          "Albania",
          "Lebanon",
          "Mexico",
          "Azerbaijan",
          "Brazil",
          "Grenada",
          "Bosnia and Herzegovina",
          "The former Yugoslav Republic of Macedonia",
          "Algeria",
          "Armenia",
          "Ukraine",
          "Jordan",
          "Peru",
          "Thailand",
          "Ecuador",
          "China",
          "Fiji",
          "Mongolia",
          "Saint Lucia",
          "Jamaica",
          "Colombia",
          "Dominica",
          "Suriname",
          "Tunisia",
          "Dominican Republic",
          "Saint Vincent and the Grenadines",
          "Tonga",
          "Libya",
          "Belize",
          "Samoa",
          "Maldives",
          "Uzbekistan",
          "Moldova (Republic of)",
          "Botswana",
          "Gabon",
          "Paraguay",
          "Egypt",
          "Turkmenistan",
          "Indonesia",
          "Palestine, State of",
          "Viet Nam",
          "Philippines",
          "El Salvador",
          "Bolivia (Plurinational State of)",
          "South Africa",
          "Kyrgyzstan",
          "Iraq",
          "Cabo Verde",
          "Morocco",
          "Nicaragua",
          "Guatemala",
          "Namibia",
          "Guyana",
          "Micronesia (Federated States of)",
          "Tajikistan",
          "Honduras",
          "India",
          "Bhutan",
          "Timor-Leste",
          "Vanuatu",
          "Congo",
          "Equatorial Guinea",
          "Kiribati",
          "Lao People's Democratic Republic",
          "Bangladesh",
          "Ghana",
          "Zambia",
          "Sao Tome and Principe",
          "Cambodia",
          "Nepal",
          "Myanmar",
          "Kenya",
          "Pakistan",
          "Swaziland",
          "Syrian Arab Republic",
          "Angola",
          "Tanzania (United Republic of)",
          "Nigeria",
          "Cameroon",
          "Papua New Guinea",
          "Zimbabwe",
          "Solomon Islands",
          "Mauritania",
          "Madagascar",
          "Rwanda",
          "Comoros",
          "Lesotho",
          "Senegal",
          "Haiti",
          "Uganda",
          "Sudan",
          "Togo",
          "Benin",
          "Yemen",
          "Afghanistan",
          "Malawi",
          "Côte d'Ivoire",
          "Djibouti",
          "Gambia",
          "Ethiopia",
          "Mali",
          "Congo (Democratic Republic of the)",
          "Liberia",
          "Guinea-Bissau",
          "Eritrea",
          "Sierra Leone",
          "Mozambique",
          "South Sudan",
          "Guinea",
          "Burundi",
          "Burkina Faso",
          "Chad",
          "Niger",
          "Central African Republic",
          "Korea (Democratic People's Rep. of)",
          "Marshall Islands",
          "Monaco",
          "Nauru",
          "San Marino",
          "Somalia",
          "Tuvalu"
         ],
         "type": "choropleth",
         "z": [
          67614,
          42822,
          56364,
          45000,
          44519,
          78162,
          46326,
          43798,
          37065,
          42582,
          53245,
          54265,
          32870,
          46251,
          75065,
          37931,
          37268,
          34541,
          31215,
          62471,
          38085,
          41243,
          38868,
          43609,
          28664,
          33573,
          32779,
          28144,
          24808,
          72843,
          26362,
          47979,
          29459,
          29500,
          129916,
          24117,
          26006,
          21665,
          51320,
          26764,
          26104,
          66203,
          23394,
          22589,
          20945,
          20291,
          37236,
          15410,
          23286,
          19428,
          76075,
          15629,
          34402,
          14952,
          19148,
          16261,
          22093,
          21565,
          24620,
          13771,
          19470,
          20907,
          23886,
          17948,
          28049,
          14006,
          12202,
          7455,
          16395,
          8856,
          18705,
          15129,
          10789,
          22436,
          10252,
          13312,
          16383,
          16413,
          14145,
          11502,
          10091,
          12405,
          13533,
          8189,
          7361,
          10111,
          11295,
          14519,
          10536,
          13345,
          8245,
          10449,
          9791,
          8350,
          12762,
          10096,
          16018,
          10249,
          12756,
          10372,
          5284,
          14303,
          7375,
          5372,
          10383,
          5748,
          5026,
          14663,
          19044,
          8182,
          10064,
          14026,
          10053,
          5256,
          5335,
          8395,
          7732,
          6155,
          12087,
          3097,
          11608,
          6049,
          7195,
          4747,
          7063,
          9770,
          6884,
          3291,
          2601,
          4466,
          5663,
          7081,
          5371,
          2805,
          5503,
          21517,
          2475,
          5049,
          3341,
          3839,
          3464,
          3070,
          3095,
          2337,
          4943,
          2881,
          5031,
          7522,
          2441,
          6291,
          2467,
          5443,
          2894,
          2712,
          1588,
          1561,
          3527,
          1320,
          1617,
          1335,
          3319,
          2250,
          1657,
          1670,
          3846,
          1262,
          1979,
          2300,
          1871,
          1073,
          3163,
          3216,
          1541,
          1523,
          2218,
          680,
          683,
          1369,
          1490,
          1529,
          1098,
          1882,
          1058,
          691,
          1537,
          1991,
          889,
          587,
          null,
          4412,
          null,
          12058,
          50063,
          294,
          5395
         ]
        }
       ],
       "layout": {
        "geo": {
         "lakecolor": "rgb(85,173,240)",
         "projection": {
          "type": "hammer"
         },
         "scope": "world",
         "showlakes": true
        },
        "template": {
         "data": {
          "bar": [
           {
            "error_x": {
             "color": "#2a3f5f"
            },
            "error_y": {
             "color": "#2a3f5f"
            },
            "marker": {
             "line": {
              "color": "#E5ECF6",
              "width": 0.5
             },
             "pattern": {
              "fillmode": "overlay",
              "size": 10,
              "solidity": 0.2
             }
            },
            "type": "bar"
           }
          ],
          "barpolar": [
           {
            "marker": {
             "line": {
              "color": "#E5ECF6",
              "width": 0.5
             },
             "pattern": {
              "fillmode": "overlay",
              "size": 10,
              "solidity": 0.2
             }
            },
            "type": "barpolar"
           }
          ],
          "carpet": [
           {
            "aaxis": {
             "endlinecolor": "#2a3f5f",
             "gridcolor": "white",
             "linecolor": "white",
             "minorgridcolor": "white",
             "startlinecolor": "#2a3f5f"
            },
            "baxis": {
             "endlinecolor": "#2a3f5f",
             "gridcolor": "white",
             "linecolor": "white",
             "minorgridcolor": "white",
             "startlinecolor": "#2a3f5f"
            },
            "type": "carpet"
           }
          ],
          "choropleth": [
           {
            "colorbar": {
             "outlinewidth": 0,
             "ticks": ""
            },
            "type": "choropleth"
           }
          ],
          "contour": [
           {
            "colorbar": {
             "outlinewidth": 0,
             "ticks": ""
            },
            "colorscale": [
             [
              0,
              "#0d0887"
             ],
             [
              0.1111111111111111,
              "#46039f"
             ],
             [
              0.2222222222222222,
              "#7201a8"
             ],
             [
              0.3333333333333333,
              "#9c179e"
             ],
             [
              0.4444444444444444,
              "#bd3786"
             ],
             [
              0.5555555555555556,
              "#d8576b"
             ],
             [
              0.6666666666666666,
              "#ed7953"
             ],
             [
              0.7777777777777778,
              "#fb9f3a"
             ],
             [
              0.8888888888888888,
              "#fdca26"
             ],
             [
              1,
              "#f0f921"
             ]
            ],
            "type": "contour"
           }
          ],
          "contourcarpet": [
           {
            "colorbar": {
             "outlinewidth": 0,
             "ticks": ""
            },
            "type": "contourcarpet"
           }
          ],
          "heatmap": [
           {
            "colorbar": {
             "outlinewidth": 0,
             "ticks": ""
            },
            "colorscale": [
             [
              0,
              "#0d0887"
             ],
             [
              0.1111111111111111,
              "#46039f"
             ],
             [
              0.2222222222222222,
              "#7201a8"
             ],
             [
              0.3333333333333333,
              "#9c179e"
             ],
             [
              0.4444444444444444,
              "#bd3786"
             ],
             [
              0.5555555555555556,
              "#d8576b"
             ],
             [
              0.6666666666666666,
              "#ed7953"
             ],
             [
              0.7777777777777778,
              "#fb9f3a"
             ],
             [
              0.8888888888888888,
              "#fdca26"
             ],
             [
              1,
              "#f0f921"
             ]
            ],
            "type": "heatmap"
           }
          ],
          "heatmapgl": [
           {
            "colorbar": {
             "outlinewidth": 0,
             "ticks": ""
            },
            "colorscale": [
             [
              0,
              "#0d0887"
             ],
             [
              0.1111111111111111,
              "#46039f"
             ],
             [
              0.2222222222222222,
              "#7201a8"
             ],
             [
              0.3333333333333333,
              "#9c179e"
             ],
             [
              0.4444444444444444,
              "#bd3786"
             ],
             [
              0.5555555555555556,
              "#d8576b"
             ],
             [
              0.6666666666666666,
              "#ed7953"
             ],
             [
              0.7777777777777778,
              "#fb9f3a"
             ],
             [
              0.8888888888888888,
              "#fdca26"
             ],
             [
              1,
              "#f0f921"
             ]
            ],
            "type": "heatmapgl"
           }
          ],
          "histogram": [
           {
            "marker": {
             "pattern": {
              "fillmode": "overlay",
              "size": 10,
              "solidity": 0.2
             }
            },
            "type": "histogram"
           }
          ],
          "histogram2d": [
           {
            "colorbar": {
             "outlinewidth": 0,
             "ticks": ""
            },
            "colorscale": [
             [
              0,
              "#0d0887"
             ],
             [
              0.1111111111111111,
              "#46039f"
             ],
             [
              0.2222222222222222,
              "#7201a8"
             ],
             [
              0.3333333333333333,
              "#9c179e"
             ],
             [
              0.4444444444444444,
              "#bd3786"
             ],
             [
              0.5555555555555556,
              "#d8576b"
             ],
             [
              0.6666666666666666,
              "#ed7953"
             ],
             [
              0.7777777777777778,
              "#fb9f3a"
             ],
             [
              0.8888888888888888,
              "#fdca26"
             ],
             [
              1,
              "#f0f921"
             ]
            ],
            "type": "histogram2d"
           }
          ],
          "histogram2dcontour": [
           {
            "colorbar": {
             "outlinewidth": 0,
             "ticks": ""
            },
            "colorscale": [
             [
              0,
              "#0d0887"
             ],
             [
              0.1111111111111111,
              "#46039f"
             ],
             [
              0.2222222222222222,
              "#7201a8"
             ],
             [
              0.3333333333333333,
              "#9c179e"
             ],
             [
              0.4444444444444444,
              "#bd3786"
             ],
             [
              0.5555555555555556,
              "#d8576b"
             ],
             [
              0.6666666666666666,
              "#ed7953"
             ],
             [
              0.7777777777777778,
              "#fb9f3a"
             ],
             [
              0.8888888888888888,
              "#fdca26"
             ],
             [
              1,
              "#f0f921"
             ]
            ],
            "type": "histogram2dcontour"
           }
          ],
          "mesh3d": [
           {
            "colorbar": {
             "outlinewidth": 0,
             "ticks": ""
            },
            "type": "mesh3d"
           }
          ],
          "parcoords": [
           {
            "line": {
             "colorbar": {
              "outlinewidth": 0,
              "ticks": ""
             }
            },
            "type": "parcoords"
           }
          ],
          "pie": [
           {
            "automargin": true,
            "type": "pie"
           }
          ],
          "scatter": [
           {
            "marker": {
             "colorbar": {
              "outlinewidth": 0,
              "ticks": ""
             }
            },
            "type": "scatter"
           }
          ],
          "scatter3d": [
           {
            "line": {
             "colorbar": {
              "outlinewidth": 0,
              "ticks": ""
             }
            },
            "marker": {
             "colorbar": {
              "outlinewidth": 0,
              "ticks": ""
             }
            },
            "type": "scatter3d"
           }
          ],
          "scattercarpet": [
           {
            "marker": {
             "colorbar": {
              "outlinewidth": 0,
              "ticks": ""
             }
            },
            "type": "scattercarpet"
           }
          ],
          "scattergeo": [
           {
            "marker": {
             "colorbar": {
              "outlinewidth": 0,
              "ticks": ""
             }
            },
            "type": "scattergeo"
           }
          ],
          "scattergl": [
           {
            "marker": {
             "colorbar": {
              "outlinewidth": 0,
              "ticks": ""
             }
            },
            "type": "scattergl"
           }
          ],
          "scattermapbox": [
           {
            "marker": {
             "colorbar": {
              "outlinewidth": 0,
              "ticks": ""
             }
            },
            "type": "scattermapbox"
           }
          ],
          "scatterpolar": [
           {
            "marker": {
             "colorbar": {
              "outlinewidth": 0,
              "ticks": ""
             }
            },
            "type": "scatterpolar"
           }
          ],
          "scatterpolargl": [
           {
            "marker": {
             "colorbar": {
              "outlinewidth": 0,
              "ticks": ""
             }
            },
            "type": "scatterpolargl"
           }
          ],
          "scatterternary": [
           {
            "marker": {
             "colorbar": {
              "outlinewidth": 0,
              "ticks": ""
             }
            },
            "type": "scatterternary"
           }
          ],
          "surface": [
           {
            "colorbar": {
             "outlinewidth": 0,
             "ticks": ""
            },
            "colorscale": [
             [
              0,
              "#0d0887"
             ],
             [
              0.1111111111111111,
              "#46039f"
             ],
             [
              0.2222222222222222,
              "#7201a8"
             ],
             [
              0.3333333333333333,
              "#9c179e"
             ],
             [
              0.4444444444444444,
              "#bd3786"
             ],
             [
              0.5555555555555556,
              "#d8576b"
             ],
             [
              0.6666666666666666,
              "#ed7953"
             ],
             [
              0.7777777777777778,
              "#fb9f3a"
             ],
             [
              0.8888888888888888,
              "#fdca26"
             ],
             [
              1,
              "#f0f921"
             ]
            ],
            "type": "surface"
           }
          ],
          "table": [
           {
            "cells": {
             "fill": {
              "color": "#EBF0F8"
             },
             "line": {
              "color": "white"
             }
            },
            "header": {
             "fill": {
              "color": "#C8D4E3"
             },
             "line": {
              "color": "white"
             }
            },
            "type": "table"
           }
          ]
         },
         "layout": {
          "annotationdefaults": {
           "arrowcolor": "#2a3f5f",
           "arrowhead": 0,
           "arrowwidth": 1
          },
          "autotypenumbers": "strict",
          "coloraxis": {
           "colorbar": {
            "outlinewidth": 0,
            "ticks": ""
           }
          },
          "colorscale": {
           "diverging": [
            [
             0,
             "#8e0152"
            ],
            [
             0.1,
             "#c51b7d"
            ],
            [
             0.2,
             "#de77ae"
            ],
            [
             0.3,
             "#f1b6da"
            ],
            [
             0.4,
             "#fde0ef"
            ],
            [
             0.5,
             "#f7f7f7"
            ],
            [
             0.6,
             "#e6f5d0"
            ],
            [
             0.7,
             "#b8e186"
            ],
            [
             0.8,
             "#7fbc41"
            ],
            [
             0.9,
             "#4d9221"
            ],
            [
             1,
             "#276419"
            ]
           ],
           "sequential": [
            [
             0,
             "#0d0887"
            ],
            [
             0.1111111111111111,
             "#46039f"
            ],
            [
             0.2222222222222222,
             "#7201a8"
            ],
            [
             0.3333333333333333,
             "#9c179e"
            ],
            [
             0.4444444444444444,
             "#bd3786"
            ],
            [
             0.5555555555555556,
             "#d8576b"
            ],
            [
             0.6666666666666666,
             "#ed7953"
            ],
            [
             0.7777777777777778,
             "#fb9f3a"
            ],
            [
             0.8888888888888888,
             "#fdca26"
            ],
            [
             1,
             "#f0f921"
            ]
           ],
           "sequentialminus": [
            [
             0,
             "#0d0887"
            ],
            [
             0.1111111111111111,
             "#46039f"
            ],
            [
             0.2222222222222222,
             "#7201a8"
            ],
            [
             0.3333333333333333,
             "#9c179e"
            ],
            [
             0.4444444444444444,
             "#bd3786"
            ],
            [
             0.5555555555555556,
             "#d8576b"
            ],
            [
             0.6666666666666666,
             "#ed7953"
            ],
            [
             0.7777777777777778,
             "#fb9f3a"
            ],
            [
             0.8888888888888888,
             "#fdca26"
            ],
            [
             1,
             "#f0f921"
            ]
           ]
          },
          "colorway": [
           "#636efa",
           "#EF553B",
           "#00cc96",
           "#ab63fa",
           "#FFA15A",
           "#19d3f3",
           "#FF6692",
           "#B6E880",
           "#FF97FF",
           "#FECB52"
          ],
          "font": {
           "color": "#2a3f5f"
          },
          "geo": {
           "bgcolor": "white",
           "lakecolor": "white",
           "landcolor": "#E5ECF6",
           "showlakes": true,
           "showland": true,
           "subunitcolor": "white"
          },
          "hoverlabel": {
           "align": "left"
          },
          "hovermode": "closest",
          "mapbox": {
           "style": "light"
          },
          "paper_bgcolor": "white",
          "plot_bgcolor": "#E5ECF6",
          "polar": {
           "angularaxis": {
            "gridcolor": "white",
            "linecolor": "white",
            "ticks": ""
           },
           "bgcolor": "#E5ECF6",
           "radialaxis": {
            "gridcolor": "white",
            "linecolor": "white",
            "ticks": ""
           }
          },
          "scene": {
           "xaxis": {
            "backgroundcolor": "#E5ECF6",
            "gridcolor": "white",
            "gridwidth": 2,
            "linecolor": "white",
            "showbackground": true,
            "ticks": "",
            "zerolinecolor": "white"
           },
           "yaxis": {
            "backgroundcolor": "#E5ECF6",
            "gridcolor": "white",
            "gridwidth": 2,
            "linecolor": "white",
            "showbackground": true,
            "ticks": "",
            "zerolinecolor": "white"
           },
           "zaxis": {
            "backgroundcolor": "#E5ECF6",
            "gridcolor": "white",
            "gridwidth": 2,
            "linecolor": "white",
            "showbackground": true,
            "ticks": "",
            "zerolinecolor": "white"
           }
          },
          "shapedefaults": {
           "line": {
            "color": "#2a3f5f"
           }
          },
          "ternary": {
           "aaxis": {
            "gridcolor": "white",
            "linecolor": "white",
            "ticks": ""
           },
           "baxis": {
            "gridcolor": "white",
            "linecolor": "white",
            "ticks": ""
           },
           "bgcolor": "#E5ECF6",
           "caxis": {
            "gridcolor": "white",
            "linecolor": "white",
            "ticks": ""
           }
          },
          "title": {
           "x": 0.05
          },
          "xaxis": {
           "automargin": true,
           "gridcolor": "white",
           "linecolor": "white",
           "ticks": "",
           "title": {
            "standoff": 15
           },
           "zerolinecolor": "white",
           "zerolinewidth": 2
          },
          "yaxis": {
           "automargin": true,
           "gridcolor": "white",
           "linecolor": "white",
           "ticks": "",
           "title": {
            "standoff": 15
           },
           "zerolinecolor": "white",
           "zerolinewidth": 2
          }
         }
        },
        "title": {
         "text": "Gross national income (GNI) per capita data of the world"
        }
       }
      },
      "text/html": [
       "<div>                            <div id=\"f2a0bf48-401f-4170-9205-c254aba3342f\" class=\"plotly-graph-div\" style=\"height:525px; width:100%;\"></div>            <script type=\"text/javascript\">                require([\"plotly\"], function(Plotly) {                    window.PLOTLYENV=window.PLOTLYENV || {};                                    if (document.getElementById(\"f2a0bf48-401f-4170-9205-c254aba3342f\")) {                    Plotly.newPlot(                        \"f2a0bf48-401f-4170-9205-c254aba3342f\",                        [{\"colorbar\":{\"title\":{\"text\":\"Gross national income (GNI) per capita\"}},\"colorscale\":[[0.0,\"rgb(252, 222, 156)\"],[0.16666666666666666,\"rgb(250, 164, 118)\"],[0.3333333333333333,\"rgb(240, 116, 110)\"],[0.5,\"rgb(227, 79, 111)\"],[0.6666666666666666,\"rgb(220, 57, 119)\"],[0.8333333333333334,\"rgb(185, 37, 122)\"],[1.0,\"rgb(124, 29, 111)\"]],\"locations\":[\"NOR\",\"AUS\",\"CHE\",\"DEU\",\"DNK\",\"SGP\",\"NLD\",\"IRL\",\"ISL\",\"CAN\",\"USA\",null,\"NZL\",\"SWE\",\"LIE\",\"GBR\",\"JPN\",null,\"ISR\",\"LUX\",\"FRA\",\"BEL\",\"FIN\",\"AUT\",\"SVN\",\"ITA\",\"ESP\",\"CZE\",\"GRC\",null,\"EST\",\"AND\",\"CYP\",\"MLT\",\"QAT\",\"POL\",\"LTU\",\"CHL\",\"SAU\",\"SVK\",\"PRT\",\"ARE\",\"HUN\",\"LVA\",\"ARG\",\"HRV\",\"BHR\",\"MNE\",null,\"ROU\",\"KWT\",\"BLR\",\"OMN\",\"BRB\",\"URY\",\"BGR\",\"KAZ\",null,\"MYS\",\"PLW\",\"PAN\",\"ATG\",\"SYC\",\"MUS\",\"TTO\",\"CRI\",\"SRB\",\"CUB\",null,\"GEO\",\"TUR\",null,\"LKA\",\"KNA\",\"ALB\",\"LBN\",\"MEX\",\"AZE\",\"BRA\",\"GRD\",\"BIH\",null,\"DZA\",\"ARM\",\"UKR\",\"JOR\",\"PER\",\"THA\",\"ECU\",\"CHN\",\"FJI\",\"MNG\",\"LCA\",\"JAM\",\"COL\",\"DMA\",\"SUR\",\"TUN\",\"DOM\",\"VCT\",\"TON\",\"LBY\",\"BLZ\",\"WSM\",\"MDV\",\"UZB\",null,\"BWA\",\"GAB\",\"PRY\",\"EGY\",\"TKM\",\"IDN\",null,null,\"PHL\",\"SLV\",null,\"ZAF\",\"KGZ\",\"IRQ\",\"CPV\",\"MAR\",\"NIC\",\"GTM\",\"NAM\",\"GUY\",null,\"TJK\",\"HND\",\"IND\",\"BTN\",\"TLS\",\"VUT\",null,\"GNQ\",\"KIR\",null,\"BGD\",\"GHA\",\"ZMB\",\"STP\",\"KHM\",\"NPL\",null,\"KEN\",\"PAK\",\"SWZ\",null,\"AGO\",null,\"NGA\",\"CMR\",\"PNG\",\"ZWE\",\"SLB\",\"MRT\",\"MDG\",\"RWA\",\"COM\",\"LSO\",\"SEN\",\"HTI\",\"UGA\",\"SDN\",\"TGO\",\"BEN\",\"YEM\",\"AFG\",\"MWI\",null,\"DJI\",null,\"ETH\",\"MLI\",null,\"LBR\",\"GNB\",\"ERI\",\"SLE\",\"MOZ\",\"SSD\",\"GIN\",\"BDI\",\"BFA\",\"TCD\",\"NER\",\"CAF\",null,\"MHL\",\"MCO\",null,\"SMR\",\"SOM\",\"TUV\"],\"marker\":{\"line\":{\"color\":\"rgb(255,255,255)\",\"width\":1}},\"text\":[\"Norway\",\"Australia\",\"Switzerland\",\"Germany\",\"Denmark\",\"Singapore\",\"Netherlands\",\"Ireland\",\"Iceland\",\"Canada\",\"United States\",\"Hong Kong, China (SAR)\",\"New Zealand\",\"Sweden\",\"Liechtenstein\",\"United Kingdom\",\"Japan\",\"Korea (Republic of)\",\"Israel\",\"Luxembourg\",\"France\",\"Belgium\",\"Finland\",\"Austria\",\"Slovenia\",\"Italy\",\"Spain\",\"Czech Republic\",\"Greece\",\"Brunei Darussalam\",\"Estonia\",\"Andorra\",\"Cyprus\",\"Malta\",\"Qatar\",\"Poland\",\"Lithuania\",\"Chile\",\"Saudi Arabia\",\"Slovakia\",\"Portugal\",\"United Arab Emirates\",\"Hungary\",\"Latvia\",\"Argentina\",\"Croatia\",\"Bahrain\",\"Montenegro\",\"Russian Federation\",\"Romania\",\"Kuwait\",\"Belarus\",\"Oman\",\"Barbados\",\"Uruguay\",\"Bulgaria\",\"Kazakhstan\",\"Bahamas\",\"Malaysia\",\"Palau\",\"Panama\",\"Antigua and Barbuda\",\"Seychelles\",\"Mauritius\",\"Trinidad and Tobago\",\"Costa Rica\",\"Serbia\",\"Cuba\",\"Iran (Islamic Republic of)\",\"Georgia\",\"Turkey\",\"Venezuela (Bolivarian Republic of)\",\"Sri Lanka\",\"Saint Kitts and Nevis\",\"Albania\",\"Lebanon\",\"Mexico\",\"Azerbaijan\",\"Brazil\",\"Grenada\",\"Bosnia and Herzegovina\",\"The former Yugoslav Republic of Macedonia\",\"Algeria\",\"Armenia\",\"Ukraine\",\"Jordan\",\"Peru\",\"Thailand\",\"Ecuador\",\"China\",\"Fiji\",\"Mongolia\",\"Saint Lucia\",\"Jamaica\",\"Colombia\",\"Dominica\",\"Suriname\",\"Tunisia\",\"Dominican Republic\",\"Saint Vincent and the Grenadines\",\"Tonga\",\"Libya\",\"Belize\",\"Samoa\",\"Maldives\",\"Uzbekistan\",\"Moldova (Republic of)\",\"Botswana\",\"Gabon\",\"Paraguay\",\"Egypt\",\"Turkmenistan\",\"Indonesia\",\"Palestine, State of\",\"Viet Nam\",\"Philippines\",\"El Salvador\",\"Bolivia (Plurinational State of)\",\"South Africa\",\"Kyrgyzstan\",\"Iraq\",\"Cabo Verde\",\"Morocco\",\"Nicaragua\",\"Guatemala\",\"Namibia\",\"Guyana\",\"Micronesia (Federated States of)\",\"Tajikistan\",\"Honduras\",\"India\",\"Bhutan\",\"Timor-Leste\",\"Vanuatu\",\"Congo\",\"Equatorial Guinea\",\"Kiribati\",\"Lao People's Democratic Republic\",\"Bangladesh\",\"Ghana\",\"Zambia\",\"Sao Tome and Principe\",\"Cambodia\",\"Nepal\",\"Myanmar\",\"Kenya\",\"Pakistan\",\"Swaziland\",\"Syrian Arab Republic\",\"Angola\",\"Tanzania (United Republic of)\",\"Nigeria\",\"Cameroon\",\"Papua New Guinea\",\"Zimbabwe\",\"Solomon Islands\",\"Mauritania\",\"Madagascar\",\"Rwanda\",\"Comoros\",\"Lesotho\",\"Senegal\",\"Haiti\",\"Uganda\",\"Sudan\",\"Togo\",\"Benin\",\"Yemen\",\"Afghanistan\",\"Malawi\",\"C\\u00f4te d'Ivoire\",\"Djibouti\",\"Gambia\",\"Ethiopia\",\"Mali\",\"Congo (Democratic Republic of the)\",\"Liberia\",\"Guinea-Bissau\",\"Eritrea\",\"Sierra Leone\",\"Mozambique\",\"South Sudan\",\"Guinea\",\"Burundi\",\"Burkina Faso\",\"Chad\",\"Niger\",\"Central African Republic\",\"Korea (Democratic People's Rep. of)\",\"Marshall Islands\",\"Monaco\",\"Nauru\",\"San Marino\",\"Somalia\",\"Tuvalu\"],\"type\":\"choropleth\",\"z\":[67614.0,42822.0,56364.0,45000.0,44519.0,78162.0,46326.0,43798.0,37065.0,42582.0,53245.0,54265.0,32870.0,46251.0,75065.0,37931.0,37268.0,34541.0,31215.0,62471.0,38085.0,41243.0,38868.0,43609.0,28664.0,33573.0,32779.0,28144.0,24808.0,72843.0,26362.0,47979.0,29459.0,29500.0,129916.0,24117.0,26006.0,21665.0,51320.0,26764.0,26104.0,66203.0,23394.0,22589.0,20945.0,20291.0,37236.0,15410.0,23286.0,19428.0,76075.0,15629.0,34402.0,14952.0,19148.0,16261.0,22093.0,21565.0,24620.0,13771.0,19470.0,20907.0,23886.0,17948.0,28049.0,14006.0,12202.0,7455.0,16395.0,8856.0,18705.0,15129.0,10789.0,22436.0,10252.0,13312.0,16383.0,16413.0,14145.0,11502.0,10091.0,12405.0,13533.0,8189.0,7361.0,10111.0,11295.0,14519.0,10536.0,13345.0,8245.0,10449.0,9791.0,8350.0,12762.0,10096.0,16018.0,10249.0,12756.0,10372.0,5284.0,14303.0,7375.0,5372.0,10383.0,5748.0,5026.0,14663.0,19044.0,8182.0,10064.0,14026.0,10053.0,5256.0,5335.0,8395.0,7732.0,6155.0,12087.0,3097.0,11608.0,6049.0,7195.0,4747.0,7063.0,9770.0,6884.0,3291.0,2601.0,4466.0,5663.0,7081.0,5371.0,2805.0,5503.0,21517.0,2475.0,5049.0,3341.0,3839.0,3464.0,3070.0,3095.0,2337.0,4943.0,2881.0,5031.0,7522.0,2441.0,6291.0,2467.0,5443.0,2894.0,2712.0,1588.0,1561.0,3527.0,1320.0,1617.0,1335.0,3319.0,2250.0,1657.0,1670.0,3846.0,1262.0,1979.0,2300.0,1871.0,1073.0,3163.0,3216.0,1541.0,1523.0,2218.0,680.0,683.0,1369.0,1490.0,1529.0,1098.0,1882.0,1058.0,691.0,1537.0,1991.0,889.0,587.0,null,4412.0,null,12058.0,50063.0,294.0,5395.0]}],                        {\"geo\":{\"lakecolor\":\"rgb(85,173,240)\",\"projection\":{\"type\":\"hammer\"},\"scope\":\"world\",\"showlakes\":true},\"template\":{\"data\":{\"bar\":[{\"error_x\":{\"color\":\"#2a3f5f\"},\"error_y\":{\"color\":\"#2a3f5f\"},\"marker\":{\"line\":{\"color\":\"#E5ECF6\",\"width\":0.5},\"pattern\":{\"fillmode\":\"overlay\",\"size\":10,\"solidity\":0.2}},\"type\":\"bar\"}],\"barpolar\":[{\"marker\":{\"line\":{\"color\":\"#E5ECF6\",\"width\":0.5},\"pattern\":{\"fillmode\":\"overlay\",\"size\":10,\"solidity\":0.2}},\"type\":\"barpolar\"}],\"carpet\":[{\"aaxis\":{\"endlinecolor\":\"#2a3f5f\",\"gridcolor\":\"white\",\"linecolor\":\"white\",\"minorgridcolor\":\"white\",\"startlinecolor\":\"#2a3f5f\"},\"baxis\":{\"endlinecolor\":\"#2a3f5f\",\"gridcolor\":\"white\",\"linecolor\":\"white\",\"minorgridcolor\":\"white\",\"startlinecolor\":\"#2a3f5f\"},\"type\":\"carpet\"}],\"choropleth\":[{\"colorbar\":{\"outlinewidth\":0,\"ticks\":\"\"},\"type\":\"choropleth\"}],\"contour\":[{\"colorbar\":{\"outlinewidth\":0,\"ticks\":\"\"},\"colorscale\":[[0.0,\"#0d0887\"],[0.1111111111111111,\"#46039f\"],[0.2222222222222222,\"#7201a8\"],[0.3333333333333333,\"#9c179e\"],[0.4444444444444444,\"#bd3786\"],[0.5555555555555556,\"#d8576b\"],[0.6666666666666666,\"#ed7953\"],[0.7777777777777778,\"#fb9f3a\"],[0.8888888888888888,\"#fdca26\"],[1.0,\"#f0f921\"]],\"type\":\"contour\"}],\"contourcarpet\":[{\"colorbar\":{\"outlinewidth\":0,\"ticks\":\"\"},\"type\":\"contourcarpet\"}],\"heatmap\":[{\"colorbar\":{\"outlinewidth\":0,\"ticks\":\"\"},\"colorscale\":[[0.0,\"#0d0887\"],[0.1111111111111111,\"#46039f\"],[0.2222222222222222,\"#7201a8\"],[0.3333333333333333,\"#9c179e\"],[0.4444444444444444,\"#bd3786\"],[0.5555555555555556,\"#d8576b\"],[0.6666666666666666,\"#ed7953\"],[0.7777777777777778,\"#fb9f3a\"],[0.8888888888888888,\"#fdca26\"],[1.0,\"#f0f921\"]],\"type\":\"heatmap\"}],\"heatmapgl\":[{\"colorbar\":{\"outlinewidth\":0,\"ticks\":\"\"},\"colorscale\":[[0.0,\"#0d0887\"],[0.1111111111111111,\"#46039f\"],[0.2222222222222222,\"#7201a8\"],[0.3333333333333333,\"#9c179e\"],[0.4444444444444444,\"#bd3786\"],[0.5555555555555556,\"#d8576b\"],[0.6666666666666666,\"#ed7953\"],[0.7777777777777778,\"#fb9f3a\"],[0.8888888888888888,\"#fdca26\"],[1.0,\"#f0f921\"]],\"type\":\"heatmapgl\"}],\"histogram\":[{\"marker\":{\"pattern\":{\"fillmode\":\"overlay\",\"size\":10,\"solidity\":0.2}},\"type\":\"histogram\"}],\"histogram2d\":[{\"colorbar\":{\"outlinewidth\":0,\"ticks\":\"\"},\"colorscale\":[[0.0,\"#0d0887\"],[0.1111111111111111,\"#46039f\"],[0.2222222222222222,\"#7201a8\"],[0.3333333333333333,\"#9c179e\"],[0.4444444444444444,\"#bd3786\"],[0.5555555555555556,\"#d8576b\"],[0.6666666666666666,\"#ed7953\"],[0.7777777777777778,\"#fb9f3a\"],[0.8888888888888888,\"#fdca26\"],[1.0,\"#f0f921\"]],\"type\":\"histogram2d\"}],\"histogram2dcontour\":[{\"colorbar\":{\"outlinewidth\":0,\"ticks\":\"\"},\"colorscale\":[[0.0,\"#0d0887\"],[0.1111111111111111,\"#46039f\"],[0.2222222222222222,\"#7201a8\"],[0.3333333333333333,\"#9c179e\"],[0.4444444444444444,\"#bd3786\"],[0.5555555555555556,\"#d8576b\"],[0.6666666666666666,\"#ed7953\"],[0.7777777777777778,\"#fb9f3a\"],[0.8888888888888888,\"#fdca26\"],[1.0,\"#f0f921\"]],\"type\":\"histogram2dcontour\"}],\"mesh3d\":[{\"colorbar\":{\"outlinewidth\":0,\"ticks\":\"\"},\"type\":\"mesh3d\"}],\"parcoords\":[{\"line\":{\"colorbar\":{\"outlinewidth\":0,\"ticks\":\"\"}},\"type\":\"parcoords\"}],\"pie\":[{\"automargin\":true,\"type\":\"pie\"}],\"scatter\":[{\"marker\":{\"colorbar\":{\"outlinewidth\":0,\"ticks\":\"\"}},\"type\":\"scatter\"}],\"scatter3d\":[{\"line\":{\"colorbar\":{\"outlinewidth\":0,\"ticks\":\"\"}},\"marker\":{\"colorbar\":{\"outlinewidth\":0,\"ticks\":\"\"}},\"type\":\"scatter3d\"}],\"scattercarpet\":[{\"marker\":{\"colorbar\":{\"outlinewidth\":0,\"ticks\":\"\"}},\"type\":\"scattercarpet\"}],\"scattergeo\":[{\"marker\":{\"colorbar\":{\"outlinewidth\":0,\"ticks\":\"\"}},\"type\":\"scattergeo\"}],\"scattergl\":[{\"marker\":{\"colorbar\":{\"outlinewidth\":0,\"ticks\":\"\"}},\"type\":\"scattergl\"}],\"scattermapbox\":[{\"marker\":{\"colorbar\":{\"outlinewidth\":0,\"ticks\":\"\"}},\"type\":\"scattermapbox\"}],\"scatterpolar\":[{\"marker\":{\"colorbar\":{\"outlinewidth\":0,\"ticks\":\"\"}},\"type\":\"scatterpolar\"}],\"scatterpolargl\":[{\"marker\":{\"colorbar\":{\"outlinewidth\":0,\"ticks\":\"\"}},\"type\":\"scatterpolargl\"}],\"scatterternary\":[{\"marker\":{\"colorbar\":{\"outlinewidth\":0,\"ticks\":\"\"}},\"type\":\"scatterternary\"}],\"surface\":[{\"colorbar\":{\"outlinewidth\":0,\"ticks\":\"\"},\"colorscale\":[[0.0,\"#0d0887\"],[0.1111111111111111,\"#46039f\"],[0.2222222222222222,\"#7201a8\"],[0.3333333333333333,\"#9c179e\"],[0.4444444444444444,\"#bd3786\"],[0.5555555555555556,\"#d8576b\"],[0.6666666666666666,\"#ed7953\"],[0.7777777777777778,\"#fb9f3a\"],[0.8888888888888888,\"#fdca26\"],[1.0,\"#f0f921\"]],\"type\":\"surface\"}],\"table\":[{\"cells\":{\"fill\":{\"color\":\"#EBF0F8\"},\"line\":{\"color\":\"white\"}},\"header\":{\"fill\":{\"color\":\"#C8D4E3\"},\"line\":{\"color\":\"white\"}},\"type\":\"table\"}]},\"layout\":{\"annotationdefaults\":{\"arrowcolor\":\"#2a3f5f\",\"arrowhead\":0,\"arrowwidth\":1},\"autotypenumbers\":\"strict\",\"coloraxis\":{\"colorbar\":{\"outlinewidth\":0,\"ticks\":\"\"}},\"colorscale\":{\"diverging\":[[0,\"#8e0152\"],[0.1,\"#c51b7d\"],[0.2,\"#de77ae\"],[0.3,\"#f1b6da\"],[0.4,\"#fde0ef\"],[0.5,\"#f7f7f7\"],[0.6,\"#e6f5d0\"],[0.7,\"#b8e186\"],[0.8,\"#7fbc41\"],[0.9,\"#4d9221\"],[1,\"#276419\"]],\"sequential\":[[0.0,\"#0d0887\"],[0.1111111111111111,\"#46039f\"],[0.2222222222222222,\"#7201a8\"],[0.3333333333333333,\"#9c179e\"],[0.4444444444444444,\"#bd3786\"],[0.5555555555555556,\"#d8576b\"],[0.6666666666666666,\"#ed7953\"],[0.7777777777777778,\"#fb9f3a\"],[0.8888888888888888,\"#fdca26\"],[1.0,\"#f0f921\"]],\"sequentialminus\":[[0.0,\"#0d0887\"],[0.1111111111111111,\"#46039f\"],[0.2222222222222222,\"#7201a8\"],[0.3333333333333333,\"#9c179e\"],[0.4444444444444444,\"#bd3786\"],[0.5555555555555556,\"#d8576b\"],[0.6666666666666666,\"#ed7953\"],[0.7777777777777778,\"#fb9f3a\"],[0.8888888888888888,\"#fdca26\"],[1.0,\"#f0f921\"]]},\"colorway\":[\"#636efa\",\"#EF553B\",\"#00cc96\",\"#ab63fa\",\"#FFA15A\",\"#19d3f3\",\"#FF6692\",\"#B6E880\",\"#FF97FF\",\"#FECB52\"],\"font\":{\"color\":\"#2a3f5f\"},\"geo\":{\"bgcolor\":\"white\",\"lakecolor\":\"white\",\"landcolor\":\"#E5ECF6\",\"showlakes\":true,\"showland\":true,\"subunitcolor\":\"white\"},\"hoverlabel\":{\"align\":\"left\"},\"hovermode\":\"closest\",\"mapbox\":{\"style\":\"light\"},\"paper_bgcolor\":\"white\",\"plot_bgcolor\":\"#E5ECF6\",\"polar\":{\"angularaxis\":{\"gridcolor\":\"white\",\"linecolor\":\"white\",\"ticks\":\"\"},\"bgcolor\":\"#E5ECF6\",\"radialaxis\":{\"gridcolor\":\"white\",\"linecolor\":\"white\",\"ticks\":\"\"}},\"scene\":{\"xaxis\":{\"backgroundcolor\":\"#E5ECF6\",\"gridcolor\":\"white\",\"gridwidth\":2,\"linecolor\":\"white\",\"showbackground\":true,\"ticks\":\"\",\"zerolinecolor\":\"white\"},\"yaxis\":{\"backgroundcolor\":\"#E5ECF6\",\"gridcolor\":\"white\",\"gridwidth\":2,\"linecolor\":\"white\",\"showbackground\":true,\"ticks\":\"\",\"zerolinecolor\":\"white\"},\"zaxis\":{\"backgroundcolor\":\"#E5ECF6\",\"gridcolor\":\"white\",\"gridwidth\":2,\"linecolor\":\"white\",\"showbackground\":true,\"ticks\":\"\",\"zerolinecolor\":\"white\"}},\"shapedefaults\":{\"line\":{\"color\":\"#2a3f5f\"}},\"ternary\":{\"aaxis\":{\"gridcolor\":\"white\",\"linecolor\":\"white\",\"ticks\":\"\"},\"baxis\":{\"gridcolor\":\"white\",\"linecolor\":\"white\",\"ticks\":\"\"},\"bgcolor\":\"#E5ECF6\",\"caxis\":{\"gridcolor\":\"white\",\"linecolor\":\"white\",\"ticks\":\"\"}},\"title\":{\"x\":0.05},\"xaxis\":{\"automargin\":true,\"gridcolor\":\"white\",\"linecolor\":\"white\",\"ticks\":\"\",\"title\":{\"standoff\":15},\"zerolinecolor\":\"white\",\"zerolinewidth\":2},\"yaxis\":{\"automargin\":true,\"gridcolor\":\"white\",\"linecolor\":\"white\",\"ticks\":\"\",\"title\":{\"standoff\":15},\"zerolinecolor\":\"white\",\"zerolinewidth\":2}}},\"title\":{\"text\":\"Gross national income (GNI) per capita data of the world\"}},                        {\"responsive\": true}                    ).then(function(){\n",
       "                            \n",
       "var gd = document.getElementById('f2a0bf48-401f-4170-9205-c254aba3342f');\n",
       "var x = new MutationObserver(function (mutations, observer) {{\n",
       "        var display = window.getComputedStyle(gd).display;\n",
       "        if (!display || display === 'none') {{\n",
       "            console.log([gd, 'removed!']);\n",
       "            Plotly.purge(gd);\n",
       "            observer.disconnect();\n",
       "        }}\n",
       "}});\n",
       "\n",
       "// Listen for the removal of the full notebook cells\n",
       "var notebookContainer = gd.closest('#notebook-container');\n",
       "if (notebookContainer) {{\n",
       "    x.observe(notebookContainer, {childList: true});\n",
       "}}\n",
       "\n",
       "// Listen for the clearing of the current output cell\n",
       "var outputEl = gd.closest('.output');\n",
       "if (outputEl) {{\n",
       "    x.observe(outputEl, {childList: true});\n",
       "}}\n",
       "\n",
       "                        })                };                });            </script>        </div>"
      ]
     },
     "metadata": {},
     "output_type": "display_data"
    }
   ],
   "source": [
    "map(df.columns[7])"
   ]
  },
  {
   "cell_type": "code",
   "execution_count": null,
   "metadata": {},
   "outputs": [],
   "source": []
  },
  {
   "cell_type": "code",
   "execution_count": null,
   "metadata": {},
   "outputs": [],
   "source": []
  },
  {
   "cell_type": "code",
   "execution_count": null,
   "metadata": {},
   "outputs": [],
   "source": []
  }
 ],
 "metadata": {
  "kernelspec": {
   "display_name": "Python 3",
   "language": "python",
   "name": "python3"
  },
  "language_info": {
   "codemirror_mode": {
    "name": "ipython",
    "version": 3
   },
   "file_extension": ".py",
   "mimetype": "text/x-python",
   "name": "python",
   "nbconvert_exporter": "python",
   "pygments_lexer": "ipython3",
   "version": "3.8.5"
  }
 },
 "nbformat": 4,
 "nbformat_minor": 4
}
